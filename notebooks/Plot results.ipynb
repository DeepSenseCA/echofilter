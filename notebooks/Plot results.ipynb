{
 "cells": [
  {
   "cell_type": "code",
   "execution_count": null,
   "metadata": {},
   "outputs": [],
   "source": [
    "cd .."
   ]
  },
  {
   "cell_type": "code",
   "execution_count": null,
   "metadata": {},
   "outputs": [],
   "source": [
    "import copy\n",
    "import os"
   ]
  },
  {
   "cell_type": "code",
   "execution_count": null,
   "metadata": {},
   "outputs": [],
   "source": [
    "import numpy as np"
   ]
  },
  {
   "cell_type": "code",
   "execution_count": null,
   "metadata": {},
   "outputs": [],
   "source": [
    "import matplotlib.pyplot as plt\n",
    "import seaborn as sns\n",
    "sns.set()"
   ]
  },
  {
   "cell_type": "code",
   "execution_count": null,
   "metadata": {},
   "outputs": [],
   "source": [
    "import echofilter.raw\n",
    "import echofilter.plotting"
   ]
  },
  {
   "cell_type": "code",
   "execution_count": null,
   "metadata": {},
   "outputs": [],
   "source": [
    "def declare_cc_cmap(cmap, name):\n",
    "    '''\n",
    "    Register a colorcet colormap in matplotlib.pyplot.\n",
    "    \n",
    "    Parameters\n",
    "    ----------\n",
    "    cmap : list of hex str\n",
    "        List of colors in the colormap, with equispaced\n",
    "        samples. Each entry should be a hexadecimal\n",
    "        string.\n",
    "    name : str\n",
    "        Name of the colormap. The colormap will be\n",
    "        available in matplotlib with this name, and can\n",
    "        be used with `plt.set_cmap(name)`.\n",
    "    '''\n",
    "    n = len(cmap)\n",
    "    R = [int(h.lstrip('#')[:2], 16) / 255 for h in cmap]\n",
    "    G = [int(h.lstrip('#')[2:4], 16) / 255 for h in cmap]\n",
    "    B = [int(h.lstrip('#')[4:], 16) / 255 for h in cmap]\n",
    "\n",
    "    R = [(i / (n - 1), v, v) for i, v in enumerate(R)]\n",
    "    G = [(i / (n - 1), v, v) for i, v in enumerate(G)]\n",
    "    B = [(i / (n - 1), v, v) for i, v in enumerate(B)]\n",
    "\n",
    "    cdict = {'red': R, 'green': G, 'blue':  B}\n",
    "\n",
    "    plt.register_cmap(name=name, data=cdict, lut=n)"
   ]
  },
  {
   "cell_type": "code",
   "execution_count": null,
   "metadata": {},
   "outputs": [],
   "source": [
    "try:\n",
    "    import colorcet as cc\n",
    "    declare_cc_cmap(cc.fire, 'fire')\n",
    "    print('Declared fire colormap.')\n",
    "    declare_cc_cmap(cc.rainbow, 'rainbow')\n",
    "    print('Declared rainbow colormap.')\n",
    "except ImportError:\n",
    "    print('colorcet not installed')"
   ]
  },
  {
   "cell_type": "code",
   "execution_count": null,
   "metadata": {},
   "outputs": [],
   "source": [
    "top_color2 = echofilter.plotting.TOP_COLOR_DARK\n",
    "bot_color2 = echofilter.plotting.BOT_COLOR_DARK"
   ]
  },
  {
   "cell_type": "code",
   "execution_count": null,
   "metadata": {},
   "outputs": [],
   "source": [
    "root_data_dir = '/media/scott/scratch/Datasets/dsforce/surveyExports'\n",
    "\n",
    "# first val sample for stationary\n",
    "dataset = 'stationary'\n",
    "sample = 'december2017/evExports/december2017_D20180108-T045216_D20180108-T102216'\n",
    "\n",
    "# first val sample for mobile\n",
    "#dataset = 'mobile'\n",
    "#sample = 'Survey05/Survey05_GR1_S1W_survey5'\n",
    "\n",
    "#sample = 'Survey07/Survey07_GR4_N5W_survey7'"
   ]
  },
  {
   "cell_type": "code",
   "execution_count": null,
   "metadata": {},
   "outputs": [],
   "source": [
    "transect = echofilter.raw.manipulate.load_decomposed_transect_mask(\n",
    "    sample,\n",
    "    dataset,\n",
    "    root_data_dir,\n",
    ")"
   ]
  },
  {
   "cell_type": "code",
   "execution_count": null,
   "metadata": {},
   "outputs": [],
   "source": [
    "plt.figure(figsize=(15, 9))\n",
    "echofilter.plotting.plot_transect(transect, x_scale='index')\n",
    "plt.show()"
   ]
  },
  {
   "cell_type": "code",
   "execution_count": null,
   "metadata": {},
   "outputs": [],
   "source": [
    "fname_top1 = os.path.join(root_data_dir, dataset, sample + '_turbulence.evl')\n",
    "fname_top2 = os.path.join(root_data_dir, dataset, sample + '_air.evl')\n",
    "fname_bot = os.path.join(root_data_dir, dataset,sample + '_bottom.evl')\n",
    "\n",
    "if os.path.isfile(fname_top1):\n",
    "    t_top, d_top = echofilter.raw.loader.evl_loader(fname_top1)\n",
    "elif os.path.isfile(fname_top2):\n",
    "    t_top, d_top = echofilter.raw.loader.evl_loader(fname_top2)\n",
    "else:\n",
    "    t_top = d_top = None\n",
    "if os.path.isfile(fname_bot):\n",
    "    t_bot, d_bot = echofilter.raw.loader.evl_loader(fname_bot)\n",
    "else:\n",
    "    t_bot = d_bot = None"
   ]
  },
  {
   "cell_type": "code",
   "execution_count": null,
   "metadata": {},
   "outputs": [],
   "source": [
    "processed_dir = '/home/scott/Documents/git/deepsense/dsforce/echofilter/processed/'\n",
    "fname_top = os.path.join(processed_dir, dataset, sample + '_Sv_raw.csv.top.evl')\n",
    "fname_bot = os.path.join(processed_dir, dataset, sample + '_Sv_raw.csv.bottom.evl')\n",
    "\n",
    "t_top_gen, d_top_gen = echofilter.raw.loader.evl_loader(fname_top)\n",
    "t_bot_gen, d_bot_gen = echofilter.raw.loader.evl_loader(fname_bot)"
   ]
  },
  {
   "cell_type": "code",
   "execution_count": null,
   "metadata": {},
   "outputs": [],
   "source": [
    "plt.plot(np.arange(transect['timestamps'].shape[0]), np.interp(transect['timestamps'], t_top_gen, d_top_gen), top_color2)\n",
    "plt.plot(np.arange(transect['timestamps'].shape[0]), np.interp(transect['timestamps'], t_bot_gen, d_bot_gen), bot_color2)\n",
    "plt.gca().invert_yaxis()"
   ]
  },
  {
   "cell_type": "code",
   "execution_count": null,
   "metadata": {},
   "outputs": [],
   "source": [
    "plt.figure(figsize=(15, 9))\n",
    "echofilter.plotting.plot_transect(transect, x_scale='time' if dataset == 'mobile' else 'index')\n",
    "\n",
    "if dataset == 'mobile':\n",
    "    tt = transect['timestamps'] - transect['timestamps'][0]\n",
    "else:\n",
    "    tt = np.arange(transect['timestamps'].shape[0])\n",
    "plt.plot(\n",
    "    tt,\n",
    "    np.interp(transect['timestamps'], t_top_gen, d_top_gen),\n",
    "    top_color2,\n",
    "    linewidth=2,\n",
    ")\n",
    "plt.plot(\n",
    "    tt,\n",
    "    np.interp(transect['timestamps'], t_bot_gen, d_bot_gen),\n",
    "    bot_color2,\n",
    "    linewidth=2,\n",
    ")\n",
    "if dataset == 'mobile':\n",
    "    plt.ylim([0, 67])\n",
    "    plt.gca().invert_yaxis()\n",
    "plt.show()"
   ]
  },
  {
   "cell_type": "code",
   "execution_count": null,
   "metadata": {},
   "outputs": [],
   "source": [
    "cmap = 'viridis'"
   ]
  },
  {
   "cell_type": "code",
   "execution_count": null,
   "metadata": {},
   "outputs": [],
   "source": [
    "plt.figure(figsize=(15, 9))\n",
    "echofilter.plotting.plot_transect(\n",
    "    transect,\n",
    "    x_scale='time' if dataset == 'mobile' else 'index',\n",
    "    top_color='k',\n",
    "    bot_color='k',\n",
    "    passive_color='k',\n",
    "    removed_color='k',\n",
    ")\n",
    "\n",
    "if dataset == 'mobile':\n",
    "    tt = transect['timestamps'] - transect['timestamps'][0]\n",
    "else:\n",
    "    tt = np.arange(transect['timestamps'].shape[0])\n",
    "plt.plot(\n",
    "    tt,\n",
    "    np.interp(transect['timestamps'], t_top_gen, d_top_gen),\n",
    "    'w',\n",
    "    linewidth=2,\n",
    ")\n",
    "plt.plot(\n",
    "    tt,\n",
    "    np.interp(transect['timestamps'], t_bot_gen, d_bot_gen),\n",
    "    'w',\n",
    "    linewidth=2,\n",
    ")\n",
    "if dataset == 'mobile':\n",
    "    plt.ylim([0, 67])\n",
    "else:\n",
    "    plt.ylim([5, 50])\n",
    "    plt.xlim([0, 1000])\n",
    "\n",
    "plt.gca().invert_yaxis()\n",
    "if cmap is not None:\n",
    "    plt.set_cmap(cmap)\n",
    "plt.show()"
   ]
  }
 ],
 "metadata": {
  "kernelspec": {
   "display_name": "Python 3",
   "language": "python",
   "name": "python3"
  },
  "language_info": {
   "codemirror_mode": {
    "name": "ipython",
    "version": 3
   },
   "file_extension": ".py",
   "mimetype": "text/x-python",
   "name": "python",
   "nbconvert_exporter": "python",
   "pygments_lexer": "ipython3",
   "version": "3.6.9"
  }
 },
 "nbformat": 4,
 "nbformat_minor": 2
}
