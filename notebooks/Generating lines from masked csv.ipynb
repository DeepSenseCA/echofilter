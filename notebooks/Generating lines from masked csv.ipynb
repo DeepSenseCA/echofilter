{
 "cells": [
  {
   "cell_type": "code",
   "execution_count": null,
   "metadata": {},
   "outputs": [],
   "source": [
    "cd .."
   ]
  },
  {
   "cell_type": "code",
   "execution_count": null,
   "metadata": {},
   "outputs": [],
   "source": [
    "import echofilter.rawloader"
   ]
  },
  {
   "cell_type": "code",
   "execution_count": null,
   "metadata": {},
   "outputs": [],
   "source": [
    "import os"
   ]
  },
  {
   "cell_type": "code",
   "execution_count": null,
   "metadata": {},
   "outputs": [],
   "source": [
    "import numpy as np"
   ]
  },
  {
   "cell_type": "code",
   "execution_count": null,
   "metadata": {},
   "outputs": [],
   "source": [
    "import matplotlib.pyplot as plt\n",
    "import seaborn as sns\n",
    "sns.set()"
   ]
  },
  {
   "cell_type": "code",
   "execution_count": null,
   "metadata": {},
   "outputs": [],
   "source": [
    "ROOT_DATA_DIR = '/media/scott/scratch/Datasets/dsforce/'\n",
    "sample = 'surveyExports/mobile/Survey17/Survey17_GR4_T1W_E'\n",
    "\n",
    "fname_raw = os.path.join(ROOT_DATA_DIR, sample + '_Sv_raw.csv')\n",
    "fname_masked = os.path.join(ROOT_DATA_DIR, sample + '_Sv.csv')\n",
    "\n",
    "ts_raw, depths_raw, signals_raw = echofilter.rawloader.transect_loader(fname_raw)\n",
    "ts_mskd, depths_mskd, signals_mskd = echofilter.rawloader.transect_loader(fname_masked)\n",
    "\n",
    "t_bot, d_bot = echofilter.rawloader.evl_loader(os.path.join(ROOT_DATA_DIR, sample + '_bottom.evl'))\n",
    "t_top, d_top = echofilter.rawloader.evl_loader(os.path.join(ROOT_DATA_DIR, sample + '_turbulence.evl'))"
   ]
  },
  {
   "cell_type": "code",
   "execution_count": null,
   "metadata": {},
   "outputs": [],
   "source": [
    "np.min(signals_raw), np.max(signals_raw)"
   ]
  },
  {
   "cell_type": "code",
   "execution_count": null,
   "metadata": {},
   "outputs": [],
   "source": [
    "ts_raw.shape, depths_raw.shape, signals_raw.shape"
   ]
  },
  {
   "cell_type": "code",
   "execution_count": null,
   "metadata": {},
   "outputs": [],
   "source": [
    "top_color = 'c'\n",
    "bot_color = '#00ee00'"
   ]
  },
  {
   "cell_type": "code",
   "execution_count": null,
   "metadata": {},
   "outputs": [],
   "source": [
    "plt.figure(figsize=(12, 12))\n",
    "plt.pcolormesh(ts_raw, depths_raw, signals_raw.T)\n",
    "plt.plot(t_top, d_top, top_color)\n",
    "plt.plot(t_bot, d_bot, bot_color)\n",
    "plt.gca().invert_yaxis()\n",
    "plt.show()"
   ]
  },
  {
   "cell_type": "markdown",
   "metadata": {},
   "source": [
    "## Finding boxes to merge"
   ]
  },
  {
   "cell_type": "code",
   "execution_count": null,
   "metadata": {},
   "outputs": [],
   "source": [
    "plt.figure(figsize=(12, 12))\n",
    "plt.pcolormesh(ts_mskd, depths_mskd, signals_mskd.T)\n",
    "plt.plot(t_top, d_top, top_color)\n",
    "plt.plot(t_bot, d_bot, bot_color)\n",
    "plt.gca().invert_yaxis()\n",
    "plt.show()"
   ]
  },
  {
   "cell_type": "code",
   "execution_count": null,
   "metadata": {},
   "outputs": [],
   "source": [
    "plt.figure(figsize=(12, 12))\n",
    "plt.pcolormesh(ts_mskd, depths_mskd, ~np.isnan(signals_mskd).T)\n",
    "plt.plot(t_top, d_top, top_color)\n",
    "plt.plot(t_bot, d_bot, bot_color)\n",
    "plt.gca().invert_yaxis()\n",
    "plt.show()"
   ]
  },
  {
   "cell_type": "code",
   "execution_count": null,
   "metadata": {},
   "outputs": [],
   "source": [
    "indices = np.tile(np.arange(signals_mskd.shape[1]), (signals_mskd.shape[0], 1)).astype('float')\n",
    "indices[np.isnan(signals_mskd)] = np.nan"
   ]
  },
  {
   "cell_type": "code",
   "execution_count": null,
   "metadata": {},
   "outputs": [],
   "source": [
    "np.nanmin(indices, axis=1)"
   ]
  },
  {
   "cell_type": "code",
   "execution_count": null,
   "metadata": {},
   "outputs": [],
   "source": [
    "np.nanmax(indices, axis=1)"
   ]
  },
  {
   "cell_type": "code",
   "execution_count": null,
   "metadata": {},
   "outputs": [],
   "source": [
    "cut_off_indices = np.round(np.nanmedian(indices, axis=1))"
   ]
  },
  {
   "cell_type": "code",
   "execution_count": null,
   "metadata": {},
   "outputs": [],
   "source": [
    "cut_off_indices"
   ]
  },
  {
   "cell_type": "code",
   "execution_count": null,
   "metadata": {},
   "outputs": [],
   "source": [
    "depths_mskd"
   ]
  },
  {
   "cell_type": "code",
   "execution_count": null,
   "metadata": {},
   "outputs": [],
   "source": [
    "top_depths = np.tile(\n",
    "    np.concatenate([(depths_mskd[:-1] + depths_mskd[1:]) / 2, depths_mskd[-1:]]),\n",
    "    (signals_mskd.shape[0], 1),\n",
    ")\n",
    "top_depths[~np.isnan(signals_mskd)] = np.nan"
   ]
  },
  {
   "cell_type": "code",
   "execution_count": null,
   "metadata": {},
   "outputs": [],
   "source": [
    "top_depths"
   ]
  },
  {
   "cell_type": "code",
   "execution_count": null,
   "metadata": {},
   "outputs": [],
   "source": [
    "np.expand_dims(np.arange(signals_mskd.shape[1]), 0)"
   ]
  },
  {
   "cell_type": "code",
   "execution_count": null,
   "metadata": {},
   "outputs": [],
   "source": [
    "np.expand_dims(cut_off_indices, -1)"
   ]
  },
  {
   "cell_type": "code",
   "execution_count": null,
   "metadata": {},
   "outputs": [],
   "source": [
    "plt.imshow(top_depths.T)"
   ]
  },
  {
   "cell_type": "code",
   "execution_count": null,
   "metadata": {},
   "outputs": [],
   "source": [
    "li = np.expand_dims(np.arange(signals_mskd.shape[1]), 0) > np.expand_dims(cut_off_indices, -1)\n",
    "plt.imshow(li.T)"
   ]
  },
  {
   "cell_type": "code",
   "execution_count": null,
   "metadata": {},
   "outputs": [],
   "source": [
    "top_depths[li] = np.nan\n",
    "plt.imshow(top_depths.T)"
   ]
  },
  {
   "cell_type": "code",
   "execution_count": null,
   "metadata": {},
   "outputs": [],
   "source": [
    "d_top_new = np.nanmax(top_depths, axis=1)"
   ]
  },
  {
   "cell_type": "code",
   "execution_count": null,
   "metadata": {},
   "outputs": [],
   "source": [
    "bot_depths = np.tile(\n",
    "    np.concatenate([depths_mskd[:1], (depths_mskd[:-1] + depths_mskd[1:]) / 2]),\n",
    "    (signals_mskd.shape[0], 1),\n",
    ")\n",
    "bot_depths[~np.isnan(signals_mskd)] = np.nan\n",
    "li = np.expand_dims(np.arange(signals_mskd.shape[1]), 0) < np.expand_dims(cut_off_indices, -1)\n",
    "bot_depths[li] = np.nan\n",
    "d_bot_new = np.nanmin(bot_depths, axis=1)"
   ]
  },
  {
   "cell_type": "code",
   "execution_count": null,
   "metadata": {},
   "outputs": [],
   "source": [
    "plt.imshow(bot_depths.T)"
   ]
  },
  {
   "cell_type": "code",
   "execution_count": null,
   "metadata": {},
   "outputs": [],
   "source": [
    "plt.plot(d_top_new)\n",
    "plt.plot(d_bot_new)\n",
    "plt.gca().invert_yaxis()\n",
    "plt.show()"
   ]
  },
  {
   "cell_type": "code",
   "execution_count": null,
   "metadata": {},
   "outputs": [],
   "source": [
    "plt.figure(figsize=(12, 12))\n",
    "plt.pcolormesh(ts_mskd, depths_mskd, signals_mskd.T)\n",
    "plt.plot(t_top, d_top, top_color)\n",
    "plt.plot(t_bot, d_bot, bot_color)\n",
    "plt.gca().invert_yaxis()\n",
    "plt.show()"
   ]
  },
  {
   "cell_type": "code",
   "execution_count": null,
   "metadata": {},
   "outputs": [],
   "source": [
    "plt.figure(figsize=(12, 12))\n",
    "plt.pcolormesh(ts_mskd, depths_mskd, signals_mskd.T)\n",
    "plt.plot(ts_mskd, d_top_new, top_color)\n",
    "plt.plot(ts_mskd, d_bot_new, bot_color)\n",
    "plt.gca().invert_yaxis()\n",
    "plt.show()"
   ]
  },
  {
   "cell_type": "code",
   "execution_count": null,
   "metadata": {},
   "outputs": [],
   "source": [
    "d_bot"
   ]
  },
  {
   "cell_type": "code",
   "execution_count": null,
   "metadata": {},
   "outputs": [],
   "source": [
    "d_bot_new"
   ]
  },
  {
   "cell_type": "code",
   "execution_count": null,
   "metadata": {},
   "outputs": [],
   "source": [
    "ts_mskd.shape"
   ]
  },
  {
   "cell_type": "code",
   "execution_count": null,
   "metadata": {},
   "outputs": [],
   "source": [
    "t_bot.shape"
   ]
  },
  {
   "cell_type": "code",
   "execution_count": null,
   "metadata": {},
   "outputs": [],
   "source": [
    "plt.plot(t_bot, d_bot)\n",
    "plt.plot(ts_mskd, d_bot_new)\n",
    "plt.gca().invert_yaxis()\n",
    "plt.show()"
   ]
  },
  {
   "cell_type": "code",
   "execution_count": null,
   "metadata": {},
   "outputs": [],
   "source": [
    "plt.plot(t_top, d_top)\n",
    "plt.plot(ts_mskd, d_top_new)\n",
    "plt.gca().invert_yaxis()\n",
    "plt.show()"
   ]
  }
 ],
 "metadata": {
  "kernelspec": {
   "display_name": "Python 3",
   "language": "python",
   "name": "python3"
  },
  "language_info": {
   "codemirror_mode": {
    "name": "ipython",
    "version": 3
   },
   "file_extension": ".py",
   "mimetype": "text/x-python",
   "name": "python",
   "nbconvert_exporter": "python",
   "pygments_lexer": "ipython3",
   "version": "3.6.9"
  }
 },
 "nbformat": 4,
 "nbformat_minor": 2
}
