{
 "cells": [
  {
   "cell_type": "code",
   "execution_count": null,
   "metadata": {},
   "outputs": [],
   "source": [
    "cd .."
   ]
  },
  {
   "cell_type": "code",
   "execution_count": null,
   "metadata": {},
   "outputs": [],
   "source": [
    "import copy\n",
    "import os"
   ]
  },
  {
   "cell_type": "code",
   "execution_count": null,
   "metadata": {},
   "outputs": [],
   "source": [
    "import numpy as np"
   ]
  },
  {
   "cell_type": "code",
   "execution_count": null,
   "metadata": {},
   "outputs": [],
   "source": [
    "import matplotlib.pyplot as plt\n",
    "import seaborn as sns\n",
    "sns.set()"
   ]
  },
  {
   "cell_type": "code",
   "execution_count": null,
   "metadata": {},
   "outputs": [],
   "source": [
    "import echofilter.raw"
   ]
  },
  {
   "cell_type": "code",
   "execution_count": null,
   "metadata": {},
   "outputs": [],
   "source": [
    "top_color = 'c'\n",
    "bot_color = '#00ee00'"
   ]
  },
  {
   "cell_type": "code",
   "execution_count": null,
   "metadata": {},
   "outputs": [],
   "source": [
    "ROOT_DATA_DIR = '/media/scott/scratch/Datasets/dsforce/surveyExports'\n",
    "# example with 1 passive period, 1 turbulence cut out\n",
    "sample = 'mobile/Survey16/Survey16_GR3_N1W_E'\n",
    "# example with lots of short passive periods, 1 proper passive period, 1 turbulence cut out\n",
    "# sample = 'mobile/Survey17/Survey17_GR1_N0W_E'\n",
    "\n",
    "fname_raw = os.path.join(ROOT_DATA_DIR, sample + '_Sv_raw.csv')\n",
    "fname_masked = os.path.join(ROOT_DATA_DIR, sample + '_Sv.csv')\n",
    "\n",
    "ts_raw, depths_raw, signals_raw = echofilter.raw.loader.transect_loader(fname_raw)\n",
    "ts_mskd, depths_mskd, signals_mskd = echofilter.raw.loader.transect_loader(fname_masked)\n",
    "\n",
    "t_bot, d_bot = echofilter.raw.loader.evl_loader(os.path.join(ROOT_DATA_DIR, sample + '_bottom.evl'))\n",
    "t_top, d_top = echofilter.raw.loader.evl_loader(os.path.join(ROOT_DATA_DIR, sample + '_turbulence.evl'))"
   ]
  },
  {
   "cell_type": "code",
   "execution_count": null,
   "metadata": {},
   "outputs": [],
   "source": [
    "ts_new, d_top_new, d_bot_new = echofilter.raw.manipulate.make_lines_from_masked_csv(fname_masked)"
   ]
  },
  {
   "cell_type": "code",
   "execution_count": null,
   "metadata": {},
   "outputs": [],
   "source": [
    "np.min(signals_raw), np.max(signals_raw)"
   ]
  },
  {
   "cell_type": "code",
   "execution_count": null,
   "metadata": {},
   "outputs": [],
   "source": [
    "ts_raw.shape, depths_raw.shape, signals_raw.shape"
   ]
  },
  {
   "cell_type": "code",
   "execution_count": null,
   "metadata": {},
   "outputs": [],
   "source": [
    "plt.figure(figsize=(12, 12))\n",
    "plt.pcolormesh(ts_raw, depths_raw, signals_raw.T)\n",
    "plt.plot(t_top, d_top, top_color)\n",
    "plt.plot(t_bot, d_bot, bot_color)\n",
    "plt.plot(ts_new, d_top_new, 'k')\n",
    "plt.plot(ts_new, d_bot_new, 'w')\n",
    "plt.gca().invert_yaxis()\n",
    "plt.show()"
   ]
  },
  {
   "cell_type": "code",
   "execution_count": null,
   "metadata": {},
   "outputs": [],
   "source": [
    "# Finding passive data"
   ]
  },
  {
   "cell_type": "code",
   "execution_count": null,
   "metadata": {},
   "outputs": [],
   "source": [
    "sns.distplot(np.reshape(signals_raw, (-1, )))"
   ]
  },
  {
   "cell_type": "code",
   "execution_count": null,
   "metadata": {},
   "outputs": [],
   "source": [
    "np.percentile(signals_raw, 95)"
   ]
  },
  {
   "cell_type": "code",
   "execution_count": null,
   "metadata": {},
   "outputs": [],
   "source": [
    "np.percentile(signals_raw, 99.5)"
   ]
  },
  {
   "cell_type": "code",
   "execution_count": null,
   "metadata": {},
   "outputs": [],
   "source": [
    "plt.figure(figsize=(12, 12))\n",
    "plt.pcolormesh(ts_raw, depths_raw, (signals_raw > np.percentile(signals_raw, 95)).T)\n",
    "plt.plot(t_top, d_top, top_color)\n",
    "plt.plot(t_bot, d_bot, bot_color)\n",
    "plt.gca().invert_yaxis()\n",
    "plt.show()"
   ]
  },
  {
   "cell_type": "code",
   "execution_count": null,
   "metadata": {},
   "outputs": [],
   "source": [
    "sum(~np.any(signals_raw > np.percentile(signals_raw, 95), axis=1))"
   ]
  },
  {
   "cell_type": "code",
   "execution_count": null,
   "metadata": {},
   "outputs": [],
   "source": [
    "plt.figure(figsize=(12, 12))\n",
    "plt.pcolormesh(ts_raw, depths_raw, (signals_raw > np.percentile(signals_raw, 97)).T)\n",
    "plt.plot(t_top, d_top, top_color)\n",
    "plt.plot(t_bot, d_bot, bot_color)\n",
    "plt.gca().invert_yaxis()\n",
    "plt.show()"
   ]
  },
  {
   "cell_type": "code",
   "execution_count": null,
   "metadata": {},
   "outputs": [],
   "source": [
    "plt.figure(figsize=(12, 12))\n",
    "plt.pcolormesh(ts_raw, depths_raw, (signals_raw > 0).T)\n",
    "plt.plot(t_top, d_top, top_color)\n",
    "plt.plot(t_bot, d_bot, bot_color)\n",
    "plt.gca().invert_yaxis()\n",
    "plt.show()"
   ]
  },
  {
   "cell_type": "code",
   "execution_count": null,
   "metadata": {},
   "outputs": [],
   "source": [
    "plt.figure(figsize=(12, 12))\n",
    "plt.pcolormesh(ts_raw, depths_raw[:100], signals_raw[:, :100].T)\n",
    "plt.gca().invert_yaxis()\n",
    "plt.show()"
   ]
  },
  {
   "cell_type": "code",
   "execution_count": null,
   "metadata": {},
   "outputs": [],
   "source": [
    "plt.figure(figsize=(12, 12))\n",
    "plt.pcolormesh(ts_raw, depths_raw[:34], signals_raw[:, :34].T)\n",
    "plt.gca().invert_yaxis()\n",
    "plt.show()"
   ]
  },
  {
   "cell_type": "code",
   "execution_count": null,
   "metadata": {},
   "outputs": [],
   "source": [
    "plt.figure(figsize=(12, 12))\n",
    "plt.pcolormesh(ts_raw, depths_raw[:26], signals_raw[:, :26].T)\n",
    "plt.gca().invert_yaxis()\n",
    "plt.show()"
   ]
  },
  {
   "cell_type": "code",
   "execution_count": null,
   "metadata": {},
   "outputs": [],
   "source": [
    "plt.figure(figsize=(12, 12))\n",
    "plt.plot(np.median(signals_raw[:, :45], axis=0))\n",
    "plt.show()"
   ]
  },
  {
   "cell_type": "code",
   "execution_count": null,
   "metadata": {},
   "outputs": [],
   "source": [
    "np.min(d_top)"
   ]
  },
  {
   "cell_type": "code",
   "execution_count": null,
   "metadata": {},
   "outputs": [],
   "source": [
    "sum(depths_raw <= np.min(d_top))"
   ]
  },
  {
   "cell_type": "code",
   "execution_count": null,
   "metadata": {},
   "outputs": [],
   "source": [
    "sns.distplot(np.reshape(signals_raw[:, :34], (-1, )))"
   ]
  },
  {
   "cell_type": "code",
   "execution_count": null,
   "metadata": {},
   "outputs": [],
   "source": [
    "sns.distplot(np.reshape(signals_raw[:, 34:], (-1, )))"
   ]
  },
  {
   "cell_type": "code",
   "execution_count": null,
   "metadata": {},
   "outputs": [],
   "source": [
    "plt.figure(figsize=(12, 12))\n",
    "plt.pcolormesh(ts_raw, depths_raw[:34], signals_raw[:, :34].T > 0)\n",
    "plt.gca().invert_yaxis()\n",
    "plt.show()"
   ]
  },
  {
   "cell_type": "code",
   "execution_count": null,
   "metadata": {},
   "outputs": [],
   "source": [
    "plt.figure(figsize=(12, 12))\n",
    "plt.pcolormesh(ts_raw, depths_raw, (signals_raw > 0).T)\n",
    "plt.plot(t_top, d_top, top_color)\n",
    "plt.plot(t_bot, d_bot, bot_color)\n",
    "plt.gca().invert_yaxis()\n",
    "plt.show()"
   ]
  },
  {
   "cell_type": "code",
   "execution_count": null,
   "metadata": {},
   "outputs": [],
   "source": [
    "for pc in range(100):\n",
    "    cut_off = np.percentile(signals_raw[:, 34:], pc)\n",
    "    print('{:3d}\\t {:7.2f}\\t {:3d}'.format(pc, cut_off, sum(~np.any(signals_raw[:, 34:] > cut_off, axis=1))))"
   ]
  },
  {
   "cell_type": "code",
   "execution_count": null,
   "metadata": {},
   "outputs": [],
   "source": [
    "for pc in range(100):\n",
    "    cut_off = np.percentile(signals_raw[:, :34], pc)\n",
    "    print('{:3d}\\t {:7.2f}\\t {:3d}'.format(pc, cut_off, sum(~np.any(signals_raw[:, :34] > cut_off, axis=1))))"
   ]
  },
  {
   "cell_type": "code",
   "execution_count": null,
   "metadata": {},
   "outputs": [],
   "source": [
    "plt.figure(figsize=(12, 12))\n",
    "plt.plot(np.max(signals_raw[:, :34], axis=1))\n",
    "plt.plot(np.min(signals_raw[:, :34], axis=1))\n",
    "plt.show()"
   ]
  },
  {
   "cell_type": "code",
   "execution_count": null,
   "metadata": {},
   "outputs": [],
   "source": [
    "plt.figure(figsize=(12, 12))\n",
    "plt.plot(np.max(signals_raw[:, :25], axis=1))\n",
    "plt.plot(np.min(signals_raw[:, :25], axis=1))\n",
    "plt.show()"
   ]
  },
  {
   "cell_type": "code",
   "execution_count": null,
   "metadata": {},
   "outputs": [],
   "source": [
    "plt.plot(np.mean(np.diff(signals_raw, axis=0), axis=1))"
   ]
  },
  {
   "cell_type": "code",
   "execution_count": null,
   "metadata": {},
   "outputs": [],
   "source": [
    "plt.figure(figsize=(12, 12))\n",
    "plt.plot(np.median(np.diff(signals_raw, axis=0), axis=1))\n",
    "plt.show()"
   ]
  },
  {
   "cell_type": "code",
   "execution_count": null,
   "metadata": {},
   "outputs": [],
   "source": [
    "plt.figure(figsize=(12, 12))\n",
    "plt.plot(np.median(np.diff(signals_raw[220:280, :], axis=0), axis=1))\n",
    "plt.show()"
   ]
  },
  {
   "cell_type": "code",
   "execution_count": null,
   "metadata": {},
   "outputs": [],
   "source": [
    "md = np.median(np.diff(signals_raw[220:280, :], axis=0), axis=1)\n",
    "print(np.median(md) + (np.percentile(md, 75) - np.percentile(md, 25)) * 8)\n",
    "print(np.median(md) - (np.percentile(md, 75) - np.percentile(md, 25)) * 8)"
   ]
  },
  {
   "cell_type": "code",
   "execution_count": null,
   "metadata": {},
   "outputs": [],
   "source": [
    "plt.figure(figsize=(12, 12))\n",
    "plt.plot(np.median(np.diff(signals_raw[280:, :], axis=0), axis=1))\n",
    "plt.show()"
   ]
  },
  {
   "cell_type": "code",
   "execution_count": null,
   "metadata": {},
   "outputs": [],
   "source": [
    "md = np.median(np.diff(signals_raw[280:, :], axis=0), axis=1)\n",
    "print(np.median(md) + (np.percentile(md, 75) - np.percentile(md, 25)) * 8)\n",
    "print(np.median(md) - (np.percentile(md, 75) - np.percentile(md, 25)) * 8)"
   ]
  },
  {
   "cell_type": "code",
   "execution_count": null,
   "metadata": {},
   "outputs": [],
   "source": [
    "md = np.median(np.diff(signals_raw, axis=0), axis=1)\n",
    "print(np.median(md) + (np.percentile(md, 75) - np.percentile(md, 25)) * 8)\n",
    "print(np.median(md) - (np.percentile(md, 75) - np.percentile(md, 25)) * 8)"
   ]
  },
  {
   "cell_type": "code",
   "execution_count": null,
   "metadata": {},
   "outputs": [],
   "source": [
    "plt.figure(figsize=(12, 12))\n",
    "plt.plot(np.median(np.diff(signals_raw[:, :34], axis=0), axis=1))\n",
    "plt.show()"
   ]
  },
  {
   "cell_type": "code",
   "execution_count": null,
   "metadata": {},
   "outputs": [],
   "source": [
    "plt.figure(figsize=(12, 12))\n",
    "plt.plot(np.median(np.diff(signals_raw[:, :34], axis=0), axis=1))\n",
    "plt.ylim([-1, 1])\n",
    "plt.show()"
   ]
  },
  {
   "cell_type": "code",
   "execution_count": null,
   "metadata": {},
   "outputs": [],
   "source": [
    "plt.figure(figsize=(12, 12))\n",
    "plt.plot(np.median(np.diff(signals_raw[230:260, :34], axis=0), axis=1))\n",
    "plt.show()"
   ]
  },
  {
   "cell_type": "code",
   "execution_count": null,
   "metadata": {},
   "outputs": [],
   "source": [
    "plt.figure(figsize=(12, 12))\n",
    "plt.plot(np.median(np.diff(signals_raw[230:260, :34], axis=0), axis=1))\n",
    "plt.ylim([-10, 10])\n",
    "plt.show()"
   ]
  },
  {
   "cell_type": "code",
   "execution_count": null,
   "metadata": {},
   "outputs": [],
   "source": [
    "plt.figure(figsize=(12, 12))\n",
    "plt.plot(np.median(np.diff(signals_raw[230:260, :26], axis=0), axis=1))\n",
    "plt.ylim([-5, 5])\n",
    "plt.show()"
   ]
  },
  {
   "cell_type": "code",
   "execution_count": null,
   "metadata": {},
   "outputs": [],
   "source": [
    "plt.figure(figsize=(12, 12))\n",
    "plt.plot(np.median(np.diff(signals_raw[230:260, :26], axis=0), axis=1))\n",
    "# plt.ylim([-5, 5])\n",
    "plt.show()"
   ]
  },
  {
   "cell_type": "code",
   "execution_count": null,
   "metadata": {},
   "outputs": [],
   "source": [
    "plt.figure(figsize=(12, 12))\n",
    "plt.plot(np.median(np.diff(signals_raw[230:260, :26], axis=0), axis=1))\n",
    "plt.ylim([-5, 5])\n",
    "plt.show()"
   ]
  },
  {
   "cell_type": "code",
   "execution_count": null,
   "metadata": {},
   "outputs": [],
   "source": [
    "md = np.median(np.diff(signals_raw[230:260, :34], axis=0), axis=1)\n",
    "print(np.median(md) + (np.percentile(md, 75) - np.percentile(md, 25)) * 8)\n",
    "print(np.median(md) - (np.percentile(md, 75) - np.percentile(md, 25)) * 8)"
   ]
  },
  {
   "cell_type": "code",
   "execution_count": null,
   "metadata": {},
   "outputs": [],
   "source": [
    "md = np.median(np.diff(signals_raw[:, :34], axis=0), axis=1)\n",
    "print(np.median(md) + (np.percentile(md, 75) - np.percentile(md, 25)) * 8)\n",
    "print(np.median(md) - (np.percentile(md, 75) - np.percentile(md, 25)) * 8)"
   ]
  },
  {
   "cell_type": "code",
   "execution_count": null,
   "metadata": {},
   "outputs": [],
   "source": [
    "threshold_low = np.median(md) - (np.percentile(md, 75) - np.percentile(md, 25)) * 8\n",
    "threshold_high = np.median(md) + (np.percentile(md, 75) - np.percentile(md, 25)) * 8\n",
    "indices_possible_start = np.nonzero(md < threshold_low)[0]\n",
    "indices_possible_end = np.nonzero(md > threshold_high)[0]"
   ]
  },
  {
   "cell_type": "code",
   "execution_count": null,
   "metadata": {},
   "outputs": [],
   "source": [
    "indices_possible_passive_start"
   ]
  },
  {
   "cell_type": "code",
   "execution_count": null,
   "metadata": {},
   "outputs": [],
   "source": [
    "def find_passive_edges(signals_raw, n_depth_use=None, deviation=8):\n",
    "    \n",
    "    # n_depth_use = 34\n",
    "\n",
    "    if n_depth_use is None:\n",
    "        n_depth_use = signals_raw.shape[1]\n",
    "\n",
    "    indices_passive_start = []\n",
    "    indices_passive_end = []\n",
    "\n",
    "    md = np.median(np.diff(signals_raw[:, :n_depth_use], axis=0), axis=1)\n",
    "\n",
    "    threshold_low = np.median(md) - (np.percentile(md, 75) - np.percentile(md, 25)) * deviation\n",
    "    threshold_high = np.median(md) + (np.percentile(md, 75) - np.percentile(md, 25)) * deviation\n",
    "    indices_possible_start = np.nonzero(md < threshold_low)[0]\n",
    "    indices_possible_end = np.nonzero(md > threshold_high)[0]\n",
    "\n",
    "    current_index = 0\n",
    "\n",
    "    if len(indices_possible_start) == 0 and len(indices_possible_end) == 0:\n",
    "        return np.array(indices_passive_start), np.array(indices_passive_end)\n",
    "\n",
    "    if len(indices_possible_start) > 0:\n",
    "        indices_possible_start += 1\n",
    "\n",
    "    if len(indices_possible_end) > 0:\n",
    "        indices_possible_end += 2\n",
    "\n",
    "    if len(indices_possible_start) == 0 or indices_possible_end[0] < indices_possible_start[0]:\n",
    "        indices_passive_start.append(0)\n",
    "        current_index = indices_possible_end[0]\n",
    "        indices_passive_end.append(current_index)\n",
    "        indices_possible_start = indices_possible_start[indices_possible_start > current_index]\n",
    "        indices_possible_end = indices_possible_end[indices_possible_end > current_index]\n",
    "\n",
    "    while len(indices_possible_start) > 0:\n",
    "        current_index = indices_possible_start[0]\n",
    "        indices_passive_start.append(current_index)\n",
    "        baseline = signals_raw[current_index - 1, :n_depth_use]\n",
    "\n",
    "        # Find first column which returns to the baseline value seen before passive region\n",
    "        offsets = np.nonzero(\n",
    "            np.median(baseline - signals_raw[current_index:, :n_depth_use], axis=1) < threshold_high\n",
    "        )[0]\n",
    "        if len(offsets) == 0:\n",
    "            current_index = signals_raw.shape[0]\n",
    "        else:\n",
    "            current_index += offsets[0] + 1\n",
    "        indices_passive_end.append(current_index)\n",
    "\n",
    "        # Remove preceding indices from the list of candidates\n",
    "        indices_possible_start = indices_possible_start[indices_possible_start > current_index]\n",
    "        indices_possible_end = indices_possible_end[indices_possible_end > current_index]\n",
    "\n",
    "        # Check the start was sufficiently inclusive.\n",
    "        if current_index < signals_raw.shape[0]:\n",
    "            baseline = signals_raw[current_index, :n_depth_use]\n",
    "            nonpassives = np.nonzero(\n",
    "                np.median(baseline - signals_raw[:current_index, :n_depth_use], axis=1) < threshold_high\n",
    "            )[0]\n",
    "            if len(nonpassives) == 0:\n",
    "                indices_passive_start[-1] = 0\n",
    "            else:\n",
    "                indices_passive_start[-1] = min(indices_passive_start[-1], nonpassives[-1])\n",
    "        if len(indices_passive_start) > 1 and indices_passive_start[-1] <= indices_passive_end[-2]:\n",
    "            indices_passive_start = indices_passive_start[:-1]\n",
    "            indices_passive_end = indices_passive_end[:-2] + indices_passive_end[-1:]\n",
    "\n",
    "    return np.array(indices_passive_start), np.array(indices_passive_end)"
   ]
  },
  {
   "cell_type": "code",
   "execution_count": null,
   "metadata": {},
   "outputs": [],
   "source": [
    "init_idx = 0\n",
    "indices_passive_start, indices_passive_end = find_passive_edges(signals_raw[init_idx:, :])\n",
    "indices_passive_start += init_idx\n",
    "indices_passive_end += init_idx"
   ]
  },
  {
   "cell_type": "code",
   "execution_count": null,
   "metadata": {},
   "outputs": [],
   "source": [
    "indices_passive_start"
   ]
  },
  {
   "cell_type": "code",
   "execution_count": null,
   "metadata": {},
   "outputs": [],
   "source": [
    "indices_passive_end"
   ]
  },
  {
   "cell_type": "code",
   "execution_count": null,
   "metadata": {},
   "outputs": [],
   "source": [
    "for index_start, index_end in zip(indices_passive_start, indices_passive_end):\n",
    "    plt.figure(figsize=(12, 12))\n",
    "    plt.pcolormesh(ts_raw[index_start:index_end], depths_raw[:34], signals_raw[index_start:index_end, :34].T)\n",
    "    plt.gca().invert_yaxis()\n",
    "    plt.show()"
   ]
  },
  {
   "cell_type": "code",
   "execution_count": null,
   "metadata": {},
   "outputs": [],
   "source": [
    "for index_start, index_end in zip(\n",
    "        np.concatenate(([0], indices_passive_end)),\n",
    "        np.concatenate((indices_passive_start, [signals_raw.shape[0]]))\n",
    "    ):\n",
    "    if index_start == index_end:\n",
    "        continue\n",
    "    plt.figure(figsize=(12, 12))\n",
    "    plt.pcolormesh(ts_raw[index_start:index_end], depths_raw[:34], signals_raw[index_start:index_end, :34].T)\n",
    "    plt.gca().invert_yaxis()\n",
    "    plt.show()"
   ]
  },
  {
   "cell_type": "code",
   "execution_count": null,
   "metadata": {},
   "outputs": [],
   "source": [
    "for index_start, index_end in zip(indices_passive_start, indices_passive_end):\n",
    "    plt.figure(figsize=(12, 12))\n",
    "    plt.pcolormesh(ts_raw[index_start:index_end], depths_raw, signals_raw[index_start:index_end, :].T)\n",
    "    plt.gca().invert_yaxis()\n",
    "    plt.show()"
   ]
  },
  {
   "cell_type": "code",
   "execution_count": null,
   "metadata": {},
   "outputs": [],
   "source": [
    "for index_start, index_end in zip(\n",
    "        np.concatenate(([0], indices_passive_end)),\n",
    "        np.concatenate((indices_passive_start, [signals_raw.shape[0]]))\n",
    "    ):\n",
    "    if index_start == index_end:\n",
    "        continue\n",
    "    plt.figure(figsize=(12, 12))\n",
    "    plt.pcolormesh(ts_raw[index_start:index_end], depths_raw, signals_raw[index_start:index_end, :].T)\n",
    "    plt.gca().invert_yaxis()\n",
    "    plt.show()"
   ]
  }
 ],
 "metadata": {
  "kernelspec": {
   "display_name": "Python 3",
   "language": "python",
   "name": "python3"
  },
  "language_info": {
   "codemirror_mode": {
    "name": "ipython",
    "version": 3
   },
   "file_extension": ".py",
   "mimetype": "text/x-python",
   "name": "python",
   "nbconvert_exporter": "python",
   "pygments_lexer": "ipython3",
   "version": "3.6.9"
  }
 },
 "nbformat": 4,
 "nbformat_minor": 2
}
