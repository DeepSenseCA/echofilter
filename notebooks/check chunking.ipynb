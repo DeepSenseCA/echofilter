{
 "cells": [
  {
   "cell_type": "code",
   "execution_count": null,
   "metadata": {},
   "outputs": [],
   "source": [
    "cd .."
   ]
  },
  {
   "cell_type": "code",
   "execution_count": null,
   "metadata": {},
   "outputs": [],
   "source": [
    "import copy\n",
    "import os"
   ]
  },
  {
   "cell_type": "code",
   "execution_count": null,
   "metadata": {},
   "outputs": [],
   "source": [
    "import numpy as np"
   ]
  },
  {
   "cell_type": "code",
   "execution_count": null,
   "metadata": {},
   "outputs": [],
   "source": [
    "import echofilter.raw"
   ]
  },
  {
   "cell_type": "code",
   "execution_count": null,
   "metadata": {},
   "outputs": [],
   "source": [
    "import matplotlib.pyplot as plt\n",
    "import seaborn as sns\n",
    "sns.set()"
   ]
  },
  {
   "cell_type": "code",
   "execution_count": null,
   "metadata": {},
   "outputs": [],
   "source": [
    "top_color = 'c'\n",
    "bot_color = '#00dd00'"
   ]
  },
  {
   "cell_type": "code",
   "execution_count": null,
   "metadata": {},
   "outputs": [],
   "source": [
    "def plot_transect(transect, i_transect=None):\n",
    "    tt = transect['timestamps']\n",
    "    for signal_name in ('Sv', 'Sv_masked', 'mask'):\n",
    "        if signal_name == 'Sv_masked':\n",
    "            signal = copy.deepcopy(transect['Sv'])\n",
    "            signal[~transect['mask']] = np.nan\n",
    "        else:\n",
    "            signal = transect[signal_name]\n",
    "        plt.figure(figsize=(12, 12))\n",
    "        plt.pcolormesh(\n",
    "            transect['timestamps'],\n",
    "            transect['depths'],\n",
    "            signal.T,\n",
    "        )\n",
    "        plt.plot(transect['timestamps'], transect['top'], top_color)\n",
    "        plt.plot(transect['timestamps'], transect['bottom'], bot_color)\n",
    "\n",
    "        indices = np.nonzero(transect['is_passive'])[0]\n",
    "        if len(indices) > 0:\n",
    "            r_starts = [indices[0]]\n",
    "            r_ends = []\n",
    "            breaks = np.nonzero(indices[1:] - indices[:-1] > 1)[0]\n",
    "            for break_idx in breaks:\n",
    "                r_ends.append(indices[break_idx])\n",
    "                r_starts.append(indices[break_idx + 1])\n",
    "            r_ends.append(indices[-1])\n",
    "            for r_start, r_end in zip(r_starts, r_ends):\n",
    "                plt.fill_between(\n",
    "                    tt[[r_start, r_end]],\n",
    "                    transect['depths'][[0, 0]],\n",
    "                    transect['depths'][[-1, -1]],\n",
    "                    facecolor=\"none\",\n",
    "                    hatch=\"//\",\n",
    "                    edgecolor=[.4, .4, .4],\n",
    "                    linewidth=0.0,\n",
    "                )\n",
    "\n",
    "        indices = np.nonzero(transect['is_removed'])[0]\n",
    "        if len(indices) > 0:\n",
    "            r_starts = [indices[0]]\n",
    "            r_ends = []\n",
    "            breaks = np.nonzero(indices[1:] - indices[:-1] > 1)[0]\n",
    "            for break_idx in breaks:\n",
    "                r_ends.append(indices[break_idx])\n",
    "                r_starts.append(indices[break_idx + 1])\n",
    "            r_ends.append(indices[-1])\n",
    "            for r_start, r_end in zip(r_starts, r_ends):\n",
    "                plt.fill_between(\n",
    "                    tt[[r_start, r_end]],\n",
    "                    transect['depths'][[0, 0]],\n",
    "                    transect['depths'][[-1, -1]],\n",
    "                    facecolor=\"none\",\n",
    "                    hatch=\"\\\\\\\\\",\n",
    "                    edgecolor=[0, 0, 1],\n",
    "                    linewidth=0.0,\n",
    "                )\n",
    "\n",
    "        plt.gca().invert_yaxis()\n",
    "        plt.xlabel('Timestamp (s)')\n",
    "        plt.ylabel('Depth (m)')\n",
    "        plt.title('{}  Chunk {}'.format(signal_name, i_transect))\n",
    "        plt.show()"
   ]
  },
  {
   "cell_type": "code",
   "execution_count": null,
   "metadata": {},
   "outputs": [],
   "source": [
    "root_data_dir = '/media/scott/scratch/Datasets/dsforce/surveyExports'\n",
    "dataset = 'MinasPassage'\n",
    "# has removed window\n",
    "sample = 'december2017/evExports/december2017_D20171214-T202211_D20171215-T015215'\n",
    "# has passive recording\n",
    "# sample = 'september2018/evExports/september2018_D20181116-T205220_D20181117-T022218'"
   ]
  },
  {
   "cell_type": "code",
   "execution_count": null,
   "metadata": {},
   "outputs": [],
   "source": [
    "transect = echofilter.raw.manipulate.load_decomposed_transect_mask(\n",
    "    os.path.join(root_data_dir, dataset, sample),\n",
    ")"
   ]
  },
  {
   "cell_type": "code",
   "execution_count": null,
   "metadata": {},
   "outputs": [],
   "source": [
    "chunks = echofilter.raw.manipulate.split_transect(**transect)\n",
    "\n",
    "for i_chunk, chunk in enumerate(chunks):\n",
    "    plot_transect(chunk, i_chunk)"
   ]
  },
  {
   "cell_type": "code",
   "execution_count": null,
   "metadata": {},
   "outputs": [],
   "source": [
    "root_data_dir = '/media/scott/scratch/Datasets/dsforce/surveyExports'\n",
    "dataset = 'MinasPassage'\n",
    "\n",
    "for sample in [\n",
    "    'december2017/evExports/december2017_D20171214-T202211_D20171215-T015215',\n",
    "    'december2017/evExports/december2017_D20180222-T145219_D20180222-T142214',\n",
    "    'march2018/evExports/march2018_D20180330-T202218_D20180331-T015214',\n",
    "    'march2018/evExports/march2018_D20180523-T175215_D20180523-T172215',\n",
    "    'september2018/evExports/september2018_D20180915-T202216_D20180916-T015217',\n",
    "    'september2018/evExports/september2018_D20181116-T205220_D20181117-T022218',\n",
    "    'september2018/evExports/september2018_D20181119-T195217_D20181119-T195217',\n",
    "]:\n",
    "    print(sample)\n",
    "\n",
    "    transect = echofilter.raw.manipulate.load_decomposed_transect_mask(\n",
    "        os.path.join(root_data_dir, dataset, sample),\n",
    "    )\n",
    "\n",
    "    print(sample)\n",
    "\n",
    "    chunks = echofilter.raw.manipulate.split_transect(**transect)\n",
    "\n",
    "    for i_chunk, chunk in enumerate(chunks):\n",
    "        plot_transect(chunk, i_chunk)"
   ]
  },
  {
   "cell_type": "markdown",
   "metadata": {},
   "source": [
    "### Compare against a mobile transect"
   ]
  },
  {
   "cell_type": "code",
   "execution_count": null,
   "metadata": {},
   "outputs": [],
   "source": [
    "dataset = 'mobile'\n",
    "\n",
    "# example with only passive period\n",
    "# sample = 'Survey17/Survey17_GR4_T1W_E'\n",
    "\n",
    "# example with 1 passive period, 1 turbulence cut out\n",
    "# sample = 'Survey16/Survey16_GR3_N1W_E'\n",
    "\n",
    "# example with lots of short passive periods, 1 proper passive period, 1 turbulence cut out\n",
    "# sample = 'Survey17/Survey17_GR1_N0W_E'\n",
    "\n",
    "# example with passive, removed, and patches\n",
    "# sample = 'Survey16/Survey16_GR1_N3A_F'\n",
    "\n",
    "# example with passive, removed, and patches\n",
    "sample = 'Survey16/Survey16_GR3_N3A_F'"
   ]
  },
  {
   "cell_type": "code",
   "execution_count": null,
   "metadata": {},
   "outputs": [],
   "source": [
    "transect = echofilter.raw.manipulate.load_decomposed_transect_mask(\n",
    "    os.path.join(root_data_dir, dataset, sample),\n",
    ")"
   ]
  },
  {
   "cell_type": "code",
   "execution_count": null,
   "metadata": {},
   "outputs": [],
   "source": [
    "chunks = echofilter.raw.manipulate.split_transect(**transect)\n",
    "\n",
    "for i_chunk, chunk in enumerate(chunks):\n",
    "    plot_transect(chunk, i_chunk)"
   ]
  }
 ],
 "metadata": {
  "kernelspec": {
   "display_name": "Python 3",
   "language": "python",
   "name": "python3"
  },
  "language_info": {
   "codemirror_mode": {
    "name": "ipython",
    "version": 3
   },
   "file_extension": ".py",
   "mimetype": "text/x-python",
   "name": "python",
   "nbconvert_exporter": "python",
   "pygments_lexer": "ipython3",
   "version": "3.6.9"
  }
 },
 "nbformat": 4,
 "nbformat_minor": 2
}
