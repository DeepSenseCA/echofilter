{
 "cells": [
  {
   "cell_type": "code",
   "execution_count": null,
   "metadata": {},
   "outputs": [],
   "source": [
    "cd .."
   ]
  },
  {
   "cell_type": "code",
   "execution_count": null,
   "metadata": {},
   "outputs": [],
   "source": [
    "import os"
   ]
  },
  {
   "cell_type": "code",
   "execution_count": null,
   "metadata": {},
   "outputs": [],
   "source": [
    "import numpy as np"
   ]
  },
  {
   "cell_type": "code",
   "execution_count": null,
   "metadata": {},
   "outputs": [],
   "source": [
    "import echofilter.raw"
   ]
  },
  {
   "cell_type": "code",
   "execution_count": null,
   "metadata": {},
   "outputs": [],
   "source": [
    "import matplotlib.pyplot as plt\n",
    "import seaborn as sns\n",
    "sns.set()"
   ]
  },
  {
   "cell_type": "code",
   "execution_count": null,
   "metadata": {},
   "outputs": [],
   "source": [
    "turbulence_color = 'c'\n",
    "bottom_color = '#00dd00'"
   ]
  },
  {
   "cell_type": "code",
   "execution_count": null,
   "metadata": {},
   "outputs": [],
   "source": [
    "ROOT_DATA_DIR = '/media/scott/scratch/Datasets/dsforce/surveyExports'\n",
    "dataset = 'MinasPassage'\n",
    "# has removed window\n",
    "sample = 'december2017/december2017_D20171214-T202211_D20171215-T015215'\n",
    "# has passive recording\n",
    "sample = 'september2018/september2018_D20181116-T205220_D20181117-T022218'"
   ]
  },
  {
   "cell_type": "code",
   "execution_count": null,
   "metadata": {},
   "outputs": [],
   "source": [
    "sv_path = os.path.join(ROOT_DATA_DIR, dataset, sample + '_Sv_raw.csv')\n",
    "evl_path = os.path.join(ROOT_DATA_DIR, dataset, sample + '_air.evl')"
   ]
  },
  {
   "cell_type": "code",
   "execution_count": null,
   "metadata": {},
   "outputs": [],
   "source": [
    "timestamps, depths, signals = echofilter.raw.loader.transect_loader(sv_path)"
   ]
  },
  {
   "cell_type": "code",
   "execution_count": null,
   "metadata": {},
   "outputs": [],
   "source": [
    "print(timestamps.shape)\n",
    "print(depths.shape)\n",
    "print(signals.shape)"
   ]
  },
  {
   "cell_type": "code",
   "execution_count": null,
   "metadata": {},
   "outputs": [],
   "source": [
    "timestamps"
   ]
  },
  {
   "cell_type": "code",
   "execution_count": null,
   "metadata": {},
   "outputs": [],
   "source": [
    "depths"
   ]
  },
  {
   "cell_type": "code",
   "execution_count": null,
   "metadata": {},
   "outputs": [],
   "source": [
    "min(depths), max(depths)"
   ]
  },
  {
   "cell_type": "code",
   "execution_count": null,
   "metadata": {},
   "outputs": [],
   "source": [
    "signals"
   ]
  },
  {
   "cell_type": "code",
   "execution_count": null,
   "metadata": {},
   "outputs": [],
   "source": [
    "t_top, d_top = echofilter.raw.loader.evl_loader(evl_path)"
   ]
  },
  {
   "cell_type": "code",
   "execution_count": null,
   "metadata": {},
   "outputs": [],
   "source": [
    "print(t_top.shape)\n",
    "print(d_top.shape)"
   ]
  },
  {
   "cell_type": "code",
   "execution_count": null,
   "metadata": {},
   "outputs": [],
   "source": [
    "t_top"
   ]
  },
  {
   "cell_type": "code",
   "execution_count": null,
   "metadata": {},
   "outputs": [],
   "source": [
    "d_top"
   ]
  },
  {
   "cell_type": "code",
   "execution_count": null,
   "metadata": {},
   "outputs": [],
   "source": [
    "min(d_top), max(d_top)"
   ]
  },
  {
   "cell_type": "code",
   "execution_count": null,
   "metadata": {},
   "outputs": [],
   "source": [
    "plt.figure(figsize=(12, 12))\n",
    "plt.pcolormesh(timestamps, depths, signals.T)\n",
    "# plt.plot(t_bot, d_top, 'c')\n",
    "plt.gca().invert_yaxis()\n",
    "plt.show()"
   ]
  },
  {
   "cell_type": "code",
   "execution_count": null,
   "metadata": {},
   "outputs": [],
   "source": [
    "plt.figure(figsize=(12, 12))\n",
    "plt.plot(t_top, d_top, 'b')\n",
    "plt.show()"
   ]
  },
  {
   "cell_type": "markdown",
   "metadata": {},
   "source": [
    "## Splitting stationary recordings into continguous periods with gaps between them"
   ]
  },
  {
   "cell_type": "code",
   "execution_count": null,
   "metadata": {},
   "outputs": [],
   "source": [
    "dt = np.diff(timestamps)\n",
    "min(dt), max(dt)"
   ]
  },
  {
   "cell_type": "code",
   "execution_count": null,
   "metadata": {},
   "outputs": [],
   "source": [
    "np.median(dt)"
   ]
  },
  {
   "cell_type": "code",
   "execution_count": null,
   "metadata": {},
   "outputs": [],
   "source": [
    "sum(dt > np.median(dt) * 50)"
   ]
  },
  {
   "cell_type": "code",
   "execution_count": null,
   "metadata": {},
   "outputs": [],
   "source": [
    "break_indices = np.where(dt > np.median(dt) * 50)[0]\n",
    "\n",
    "if len(break_indices) > 0:\n",
    "    break_indices += 1\n",
    "\n",
    "break_indices"
   ]
  },
  {
   "cell_type": "code",
   "execution_count": null,
   "metadata": {},
   "outputs": [],
   "source": [
    "timestamps[296:302] - timestamps[0]"
   ]
  },
  {
   "cell_type": "code",
   "execution_count": null,
   "metadata": {},
   "outputs": [],
   "source": [
    "timestamps[596:600] - timestamps[0]"
   ]
  },
  {
   "cell_type": "code",
   "execution_count": null,
   "metadata": {},
   "outputs": [],
   "source": [
    "for chunk_start, chunk_end in zip(np.concatenate(([0], break_indices)),\n",
    "                                  np.concatenate((break_indices, [len(timestamps)]))):\n",
    "    plt.figure(figsize=(12, 12))\n",
    "    plt.pcolormesh(timestamps[chunk_start:chunk_end], depths, signals[chunk_start:chunk_end, :].T)\n",
    "    li = np.logical_and(timestamps[chunk_start] <= t_top, t_top <= timestamps[chunk_end - 1])\n",
    "    plt.plot(t_top[li], d_top[li], turbulence_color)\n",
    "    plt.gca().invert_yaxis()\n",
    "    plt.show()"
   ]
  },
  {
   "cell_type": "code",
   "execution_count": null,
   "metadata": {},
   "outputs": [],
   "source": [
    "depths[0] - depths[-1]"
   ]
  },
  {
   "cell_type": "markdown",
   "metadata": {},
   "source": [
    "## Try using existing mask decomposer"
   ]
  },
  {
   "cell_type": "code",
   "execution_count": null,
   "metadata": {},
   "outputs": [],
   "source": [
    "transect = echofilter.raw.manipulate.load_decomposed_transect_mask(\n",
    "    os.path.join(ROOT_DATA_DIR, dataset, sample),\n",
    "    dataset,\n",
    ")"
   ]
  },
  {
   "cell_type": "code",
   "execution_count": null,
   "metadata": {},
   "outputs": [],
   "source": [
    "transect"
   ]
  },
  {
   "cell_type": "code",
   "execution_count": null,
   "metadata": {},
   "outputs": [],
   "source": [
    "plt.figure(figsize=(12, 12))\n",
    "plt.pcolormesh(transect['timestamps'], transect['depths'], transect['Sv'].T)\n",
    "plt.plot(transect['timestamps'], transect['top'], turbulence_color)\n",
    "plt.plot(transect['timestamps'], transect['bottom'], bottom_color)\n",
    "plt.gca().invert_yaxis()\n",
    "plt.xlabel('Timestamp (s)')\n",
    "plt.ylabel('Depth (m)')\n",
    "plt.show()"
   ]
  },
  {
   "cell_type": "code",
   "execution_count": null,
   "metadata": {},
   "outputs": [],
   "source": [
    "for i_chunk, (ck_start, ck_end) in enumerate(\n",
    "        zip(np.concatenate(([0], break_indices)),\n",
    "            np.concatenate((break_indices, [len(timestamps)]))\n",
    "           )\n",
    "    ):\n",
    "    for signal_name in ('Sv', 'mask'):\n",
    "        plt.figure(figsize=(12, 12))\n",
    "        plt.pcolormesh(\n",
    "            transect['timestamps'][ck_start:ck_end],\n",
    "            transect['depths'],\n",
    "            transect[signal_name][ck_start:ck_end, :].T,\n",
    "        )\n",
    "        plt.plot(transect['timestamps'][ck_start:ck_end], transect['top'][ck_start:ck_end], turbulence_color)\n",
    "        plt.plot(transect['timestamps'][ck_start:ck_end], transect['bottom'][ck_start:ck_end], bottom_color)\n",
    "\n",
    "        indices = np.nonzero(transect['is_passive'][ck_start:ck_end])[0]\n",
    "        if len(indices) > 0:\n",
    "            r_starts = [indices[0]]\n",
    "            r_ends = [indices[-1]]\n",
    "            breaks = np.nonzero(indices[1:] - indices[:-1] > 1)[0]\n",
    "            for break_idx in breaks:\n",
    "                r_ends.append(indices[break_idx + 1])\n",
    "                r_starts.append(indices[break_idx + 2])\n",
    "            for r_start, r_end in zip(r_starts, r_ends):\n",
    "                plt.fill_between(\n",
    "                    transect['timestamps'][ck_start:ck_end][[r_start, r_end]],\n",
    "                    transect['depths'][[0, 0]],\n",
    "                    transect['depths'][[-1, -1]],\n",
    "                    facecolor=\"none\",\n",
    "                    hatch=\"//\",\n",
    "                    edgecolor=[.4, .4, .4],\n",
    "                    linewidth=0.0,\n",
    "                )\n",
    "\n",
    "        indices = np.nonzero(transect['is_removed'][ck_start:ck_end])[0]\n",
    "        if len(indices) > 0:\n",
    "            r_starts = [indices[0]]\n",
    "            r_ends = [indices[-1]]\n",
    "            breaks = np.nonzero(indices[1:] - indices[:-1] > 1)[0]\n",
    "            for break_idx in breaks:\n",
    "                r_ends.append(indices[break_idx + 1])\n",
    "                r_starts.append(indices[break_idx + 2])\n",
    "            for r_start, r_end in zip(r_starts, r_ends):\n",
    "                plt.fill_between(\n",
    "                    transect['timestamps'][ck_start:ck_end][[r_start, r_end]],\n",
    "                    transect['depths'][[0, 0]],\n",
    "                    transect['depths'][[-1, -1]],\n",
    "                    facecolor=\"none\",\n",
    "                    hatch=\"\\\\\\\\\",\n",
    "                    edgecolor=[0, 0, 1],\n",
    "                    linewidth=0.0,\n",
    "                )\n",
    "\n",
    "        plt.gca().invert_yaxis()\n",
    "        plt.xlabel('Timestamp (s)')\n",
    "        plt.ylabel('Depth (m)')\n",
    "        plt.title('Chunk {}'.format(i_chunk))\n",
    "        plt.show()"
   ]
  },
  {
   "cell_type": "code",
   "execution_count": null,
   "metadata": {},
   "outputs": [],
   "source": [
    "plt.figure(figsize=(12, 12))\n",
    "plt.pcolormesh(\n",
    "    transect['timestamps'][ck_start:ck_end],\n",
    "    transect['depths'][:200],\n",
    "    transect['Sv'][ck_start:ck_end, :200].T,\n",
    ")\n",
    "# plt.plot(transect['timestamps'][ck_start:ck_end], transect['top'][ck_start:ck_end], turbulence_color)\n",
    "plt.plot(transect['timestamps'][ck_start:ck_end], transect['bottom'][ck_start:ck_end], bottom_color)\n",
    "\n",
    "plt.gca().invert_yaxis()\n",
    "plt.xlabel('Timestamp (s)')\n",
    "plt.ylabel('Depth (m)')\n",
    "plt.show()"
   ]
  },
  {
   "cell_type": "code",
   "execution_count": null,
   "metadata": {},
   "outputs": [],
   "source": [
    "ck_start = break_indices[6]\n",
    "ck_end = break_indices[7]\n",
    "\n",
    "plt.figure(figsize=(12, 12))\n",
    "plt.pcolormesh(\n",
    "    transect['timestamps'][ck_start:ck_end],\n",
    "    transect['depths'][:200],\n",
    "    transect['Sv'][ck_start:ck_end, :200].T,\n",
    ")\n",
    "# plt.plot(transect['timestamps'][ck_start:ck_end], transect['top'][ck_start:ck_end], turbulence_color)\n",
    "# plt.plot(transect['timestamps'][ck_start:ck_end], transect['bottom'][ck_start:ck_end], bottom_color)\n",
    "\n",
    "plt.gca().invert_yaxis()\n",
    "plt.xlabel('Timestamp (s)')\n",
    "plt.ylabel('Depth (m)')\n",
    "plt.show()"
   ]
  }
 ],
 "metadata": {
  "kernelspec": {
   "display_name": "Python 3",
   "language": "python",
   "name": "python3"
  },
  "language_info": {
   "codemirror_mode": {
    "name": "ipython",
    "version": 3
   },
   "file_extension": ".py",
   "mimetype": "text/x-python",
   "name": "python",
   "nbconvert_exporter": "python",
   "pygments_lexer": "ipython3",
   "version": "3.6.9"
  }
 },
 "nbformat": 4,
 "nbformat_minor": 2
}
