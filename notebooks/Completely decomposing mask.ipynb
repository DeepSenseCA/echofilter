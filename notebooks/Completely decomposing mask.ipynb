{
 "cells": [
  {
   "cell_type": "code",
   "execution_count": null,
   "metadata": {},
   "outputs": [],
   "source": [
    "cd .."
   ]
  },
  {
   "cell_type": "code",
   "execution_count": null,
   "metadata": {},
   "outputs": [],
   "source": [
    "import echofilter.raw"
   ]
  },
  {
   "cell_type": "code",
   "execution_count": null,
   "metadata": {},
   "outputs": [],
   "source": [
    "import os\n",
    "import copy"
   ]
  },
  {
   "cell_type": "code",
   "execution_count": null,
   "metadata": {},
   "outputs": [],
   "source": [
    "import numpy as np"
   ]
  },
  {
   "cell_type": "code",
   "execution_count": null,
   "metadata": {},
   "outputs": [],
   "source": [
    "import matplotlib.pyplot as plt\n",
    "import seaborn as sns\n",
    "sns.set()"
   ]
  },
  {
   "cell_type": "code",
   "execution_count": null,
   "metadata": {},
   "outputs": [],
   "source": [
    "top_color = 'c'\n",
    "bot_color = '#00dd00'"
   ]
  },
  {
   "cell_type": "code",
   "execution_count": null,
   "metadata": {},
   "outputs": [],
   "source": [
    "root_data_dir = '/media/scott/scratch/Datasets/dsforce/surveyExports'\n",
    "\n",
    "# example with only passive period\n",
    "# sample = 'mobile/Survey17/Survey17_GR4_T1W_E'\n",
    "\n",
    "# example with 1 passive period, 1 turbulence cut out\n",
    "# sample = 'mobile/Survey16/Survey16_GR3_N1W_E'\n",
    "\n",
    "# example with lots of short passive periods, 1 proper passive period, 1 turbulence cut out\n",
    "# sample = 'mobile/Survey17/Survey17_GR1_N0W_E'\n",
    "\n",
    "# example with passive, removed, and patches\n",
    "sample = 'mobile/Survey16/Survey16_GR1_N3A_F'\n",
    "\n",
    "# example with passive, removed, and patches\n",
    "sample = 'mobile/Survey16/Survey16_GR3_N3A_F'\n",
    "\n",
    "# example where passive detection went wrong\n",
    "# sample = 'MinasPassage/march2018/evExports/march2018_D20180330-T202218_D20180331-T015214'\n",
    "\n",
    "# Load raw data\n",
    "fname_raw = os.path.join(root_data_dir, sample + '_Sv_raw.csv')\n",
    "fname_masked = os.path.join(root_data_dir, sample + '_Sv.csv')\n",
    "\n",
    "ts_raw, depths_raw, signals_raw = echofilter.raw.loader.transect_loader(fname_raw)\n",
    "ts_mskd, depths_mskd, signals_mskd = echofilter.raw.loader.transect_loader(fname_masked)\n",
    "mask = ~np.isnan(signals_mskd)\n",
    "\n",
    "fname_top1 = os.path.join(root_data_dir, sample + '_turbulence.evl')\n",
    "fname_top2 = os.path.join(root_data_dir, sample + '_air.evl')\n",
    "fname_bot = os.path.join(root_data_dir, sample + '_bottom.evl')\n",
    "if os.path.isfile(fname_top1):\n",
    "    t_top, d_top = echofilter.raw.loader.evl_loader(fname_top1)\n",
    "elif os.path.isfile(fname_top2):\n",
    "    t_top, d_top = echofilter.raw.loader.evl_loader(fname_top2)\n",
    "else:\n",
    "    t_top = d_top = None\n",
    "if os.path.isfile(fname_bot):\n",
    "    t_bot, d_bot = echofilter.raw.loader.evl_loader(fname_bot)\n",
    "else:\n",
    "    t_bot = d_bot = None"
   ]
  },
  {
   "cell_type": "code",
   "execution_count": null,
   "metadata": {},
   "outputs": [],
   "source": [
    "d_top_new, d_bot_new, passive_starts, passive_ends = echofilter.raw.manipulate.fixup_lines(\n",
    "    ts_raw,\n",
    "    depths_raw,\n",
    "    signals_raw,\n",
    "    mask,\n",
    "    t_top=t_top,\n",
    "    d_top=d_top,\n",
    "    t_bot=t_bot,\n",
    "    d_bot=d_bot,\n",
    "    return_passive_boundaries=True,\n",
    ")\n",
    "ts_new = ts_raw"
   ]
  },
  {
   "cell_type": "code",
   "execution_count": null,
   "metadata": {},
   "outputs": [],
   "source": [
    "t_top[-1] - t_top[0]"
   ]
  },
  {
   "cell_type": "code",
   "execution_count": null,
   "metadata": {},
   "outputs": [],
   "source": [
    "ts_raw[-1] - ts_raw[0]"
   ]
  },
  {
   "cell_type": "code",
   "execution_count": null,
   "metadata": {},
   "outputs": [],
   "source": [
    "ts_mskd[-1] - ts_mskd[0]"
   ]
  },
  {
   "cell_type": "code",
   "execution_count": null,
   "metadata": {},
   "outputs": [],
   "source": [
    "plt.plot(t_top, d_top)"
   ]
  },
  {
   "cell_type": "code",
   "execution_count": null,
   "metadata": {},
   "outputs": [],
   "source": [
    "is_passive = np.zeros(ts_raw.shape, dtype=bool)\n",
    "\n",
    "for pass_start, pass_end in zip(passive_starts, passive_ends):\n",
    "    is_passive[pass_start:pass_end] = True"
   ]
  },
  {
   "cell_type": "code",
   "execution_count": null,
   "metadata": {},
   "outputs": [],
   "source": [
    "allnan = np.all(np.isnan(signals_mskd), axis=1)\n",
    "\n",
    "is_removed = allnan & ~is_passive\n",
    "\n",
    "removed_starts = np.nonzero(np.diff(is_removed.astype(np.float)) > 0)[0]\n",
    "removed_ends = np.nonzero(np.diff(is_removed.astype(np.float)) < 0)[0]\n",
    "\n",
    "if len(removed_starts) > 0:\n",
    "    removed_starts += 1\n",
    "if len(removed_ends) > 0:\n",
    "    removed_ends += 1\n",
    "\n",
    "if len(removed_ends) > 0 and (len(removed_starts) == 0 or removed_ends[0] < removed_starts[0]):\n",
    "    removed_starts = np.concatenate(([0], removed_starts))\n",
    "\n",
    "if len(removed_starts) > 0 and (len(removed_ends) == 0 or removed_starts[-1] > removed_ends[-1]):\n",
    "    removed_ends = np.concatenate((removed_ends, [len(is_removed)]))"
   ]
  },
  {
   "cell_type": "code",
   "execution_count": null,
   "metadata": {},
   "outputs": [],
   "source": [
    "# Plot with time on x-axis\n",
    "for ts, depths, signals in ((ts_raw, depths_raw, signals_raw), (ts_mskd, depths_mskd, signals_mskd)):\n",
    "    plt.figure(figsize=(12, 12))\n",
    "    plt.pcolormesh(ts, depths, signals.T)\n",
    "    if d_top is not None:\n",
    "        li = t_top <= ts[-1]\n",
    "        eliminated_line_points = np.sum(~li)\n",
    "        if eliminated_line_points > 1:\n",
    "            print(\n",
    "                'Removed {} point from top line which extend past signal recording'\n",
    "                .format(eliminated_line_points)\n",
    "            )\n",
    "        plt.plot(t_top[li], d_top[li], top_color)\n",
    "    if d_bot is not None:\n",
    "        plt.plot(t_bot, d_bot, bot_color)\n",
    "    plt.gca().invert_yaxis()\n",
    "    plt.xlabel('Timestamp (s)')\n",
    "    plt.ylabel('Depth (m)')\n",
    "    plt.show()"
   ]
  },
  {
   "cell_type": "code",
   "execution_count": null,
   "metadata": {},
   "outputs": [],
   "source": [
    "# Plot with index on x-axis\n",
    "for ts, depths, signals in (\n",
    "    (np.arange(signals_raw.shape[0]), depths_raw, signals_raw),\n",
    "    (np.arange(signals_raw.shape[0]), depths_mskd, signals_mskd),\n",
    "):\n",
    "    plt.figure(figsize=(12, 12))\n",
    "    plt.pcolormesh(ts, depths, signals.T)\n",
    "    if d_top is not None:\n",
    "        plt.plot(ts, np.interp(ts_raw, t_top, d_top), top_color)\n",
    "    if d_bot is not None:\n",
    "        plt.plot(ts, np.interp(ts_raw, t_bot, d_bot), bot_color)\n",
    "    plt.gca().invert_yaxis()\n",
    "    plt.xlabel('Sample index')\n",
    "    plt.ylabel('Depth (m)')\n",
    "    plt.show()"
   ]
  },
  {
   "cell_type": "code",
   "execution_count": null,
   "metadata": {},
   "outputs": [],
   "source": [
    "bad_mask = np.ones(signals_raw.shape, dtype=bool)\n",
    "\n",
    "ddepths = np.broadcast_to(depths_raw, signals_raw.shape)\n",
    "\n",
    "is_top = ddepths < np.expand_dims(np.interp(ts_raw, t_top, d_top), -1)\n",
    "bad_mask[is_top] = False\n",
    "\n",
    "if d_bot is not None:\n",
    "    is_bot = ddepths > np.expand_dims(np.interp(ts_raw, t_bot, d_bot), -1)\n",
    "    bad_mask[is_bot] = False\n",
    "\n",
    "signals_badly = copy.deepcopy(signals_raw)\n",
    "signals_badly[~bad_mask] = np.NaN"
   ]
  },
  {
   "cell_type": "code",
   "execution_count": null,
   "metadata": {},
   "outputs": [],
   "source": [
    "plt.figure(figsize=(12, 12))\n",
    "plt.pcolormesh(ts_raw, depths_raw, signals_badly.T)\n",
    "plt.plot(t_top, d_top, top_color)\n",
    "plt.plot(t_bot, d_bot, bot_color)\n",
    "plt.gca().invert_yaxis()\n",
    "plt.xlabel('Timestamp (s)')\n",
    "plt.ylabel('Depth (m)')\n",
    "plt.title('Bad mask (old)')\n",
    "plt.show()"
   ]
  },
  {
   "cell_type": "code",
   "execution_count": null,
   "metadata": {},
   "outputs": [],
   "source": [
    "for ts, depths, signals in ((ts_raw, depths_raw, signals_raw), (ts_mskd, depths_mskd, signals_mskd)):\n",
    "    plt.figure(figsize=(12, 12))\n",
    "    plt.pcolormesh(ts, depths, signals.T)\n",
    "    plt.plot(ts_new, d_top_new, top_color)\n",
    "    plt.plot(ts_new, d_bot_new, bot_color)\n",
    "\n",
    "    for r_start, r_end in zip(passive_starts, passive_ends):\n",
    "        plt.fill_between(\n",
    "            ts_raw[[r_start, r_end]],\n",
    "            depths_raw[[0, 0]],\n",
    "            depths_raw[[-1, -1]],\n",
    "            facecolor=\"none\",\n",
    "            hatch=\"//\",\n",
    "            edgecolor=\"k\",\n",
    "            linewidth=0.0,\n",
    "        )\n",
    "\n",
    "    for r_start, r_end in zip(removed_starts, removed_ends):\n",
    "        plt.fill_between(\n",
    "            ts_raw[[r_start, r_end]],\n",
    "            depths_raw[[0, 0]],\n",
    "            depths_raw[[-1, -1]],\n",
    "            facecolor=\"none\",\n",
    "            hatch=\"\\\\\\\\\",\n",
    "            edgecolor=[0, 0, 1],\n",
    "            linewidth=0.0,\n",
    "        )\n",
    "\n",
    "    plt.xlabel('Timestamp (s)')\n",
    "    plt.ylabel('Depth (m)')\n",
    "    plt.gca().invert_yaxis()\n",
    "    plt.show()"
   ]
  },
  {
   "cell_type": "markdown",
   "metadata": {},
   "source": [
    "## Recompose mask from parts"
   ]
  },
  {
   "cell_type": "code",
   "execution_count": null,
   "metadata": {},
   "outputs": [],
   "source": [
    "new_mask = np.ones(signals_raw.shape, dtype=bool)\n",
    "\n",
    "new_mask[is_passive, :] = False\n",
    "new_mask[is_removed, :] = False\n",
    "\n",
    "ddepths = np.broadcast_to(depths_raw, signals_raw.shape)\n",
    "is_top = ddepths < np.expand_dims(np.nan_to_num(d_top_new), -1)\n",
    "is_bot = ddepths > np.expand_dims(np.nan_to_num(d_bot_new), -1)\n",
    "\n",
    "new_mask[is_top] = False\n",
    "new_mask[is_bot] = False"
   ]
  },
  {
   "cell_type": "code",
   "execution_count": null,
   "metadata": {},
   "outputs": [],
   "source": [
    "plt.figure(figsize=(12, 12))\n",
    "plt.pcolormesh(ts_raw, depths_raw, signals_raw.T)\n",
    "plt.gca().invert_yaxis()\n",
    "plt.xlabel('Timestamp (s)')\n",
    "plt.ylabel('Depth (m)')\n",
    "plt.title('Raw data')\n",
    "plt.show()\n",
    "\n",
    "plt.figure(figsize=(12, 12))\n",
    "plt.pcolormesh(ts_raw, depths_raw, signals_mskd.T)\n",
    "plt.gca().invert_yaxis()\n",
    "plt.xlabel('Timestamp (s)')\n",
    "plt.ylabel('Depth (m)')\n",
    "plt.title('Masked data')\n",
    "plt.show()\n",
    "\n",
    "plt.figure(figsize=(12, 12))\n",
    "plt.pcolormesh(ts_raw, depths_raw, mask.T)\n",
    "plt.gca().invert_yaxis()\n",
    "plt.xlabel('Timestamp (s)')\n",
    "plt.ylabel('Depth (m)')\n",
    "plt.title('Original mask')\n",
    "plt.show()\n",
    "\n",
    "plt.figure(figsize=(12, 12))\n",
    "plt.pcolormesh(ts_raw, depths_raw, new_mask.T)\n",
    "plt.gca().invert_yaxis()\n",
    "plt.xlabel('Timestamp (s)')\n",
    "plt.ylabel('Depth (m)')\n",
    "plt.title('Decomposed and recomposed mask')\n",
    "plt.show()"
   ]
  },
  {
   "cell_type": "markdown",
   "metadata": {},
   "source": [
    "### Check recomposed mask matches the original mask"
   ]
  },
  {
   "cell_type": "code",
   "execution_count": null,
   "metadata": {},
   "outputs": [],
   "source": [
    "plt.figure(figsize=(12, 12))\n",
    "plt.pcolormesh(ts_raw, depths_raw, (np.single(mask) - np.single(new_mask)).T)\n",
    "plt.gca().invert_yaxis()\n",
    "plt.show()"
   ]
  },
  {
   "cell_type": "code",
   "execution_count": null,
   "metadata": {},
   "outputs": [],
   "source": [
    "np.nonzero(np.single(mask) - np.single(new_mask))"
   ]
  },
  {
   "cell_type": "code",
   "execution_count": null,
   "metadata": {},
   "outputs": [],
   "source": [
    "np.max(np.single(mask) - np.single(new_mask))"
   ]
  },
  {
   "cell_type": "code",
   "execution_count": null,
   "metadata": {},
   "outputs": [],
   "source": [
    "np.min(np.single(mask) - np.single(new_mask))"
   ]
  },
  {
   "cell_type": "code",
   "execution_count": null,
   "metadata": {},
   "outputs": [],
   "source": [
    "np.unique(np.nonzero(np.single(mask) - np.single(new_mask))[0])"
   ]
  },
  {
   "cell_type": "code",
   "execution_count": null,
   "metadata": {},
   "outputs": [],
   "source": [
    "for idx in np.unique(np.nonzero(np.single(mask) - np.single(new_mask))[0]):\n",
    "    for data in (signals_raw, mask, new_mask):\n",
    "        plt.figure(figsize=(12, 12))\n",
    "        plt.pcolormesh(\n",
    "            ts_raw[max(0, idx-4) : min(len(ts_raw), idx+5)],\n",
    "            depths_raw[:80],\n",
    "            data[max(0, idx-4) : min(len(ts_raw), idx+5), :80].T,\n",
    "        )\n",
    "        plt.gca().invert_yaxis()\n",
    "        plt.show()"
   ]
  },
  {
   "cell_type": "markdown",
   "metadata": {},
   "source": [
    "### Visually inspect starts and ends of removed segments"
   ]
  },
  {
   "cell_type": "code",
   "execution_count": null,
   "metadata": {},
   "outputs": [],
   "source": [
    "for idx in np.concatenate((passive_starts, passive_ends, removed_starts, removed_ends)):\n",
    "    for data in (signals_raw, mask, new_mask):\n",
    "        plt.figure(figsize=(12, 12))\n",
    "        plt.pcolormesh(ts_raw[idx-4 : idx+5], depths_raw[:500], data[idx-4 : idx+5, :500].T)\n",
    "        plt.gca().invert_yaxis()\n",
    "        plt.show()"
   ]
  }
 ],
 "metadata": {
  "kernelspec": {
   "display_name": "Python 3",
   "language": "python",
   "name": "python3"
  },
  "language_info": {
   "codemirror_mode": {
    "name": "ipython",
    "version": 3
   },
   "file_extension": ".py",
   "mimetype": "text/x-python",
   "name": "python",
   "nbconvert_exporter": "python",
   "pygments_lexer": "ipython3",
   "version": "3.6.9"
  }
 },
 "nbformat": 4,
 "nbformat_minor": 2
}
