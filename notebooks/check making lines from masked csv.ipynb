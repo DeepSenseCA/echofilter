{
 "cells": [
  {
   "cell_type": "code",
   "execution_count": null,
   "metadata": {},
   "outputs": [],
   "source": [
    "cd .."
   ]
  },
  {
   "cell_type": "code",
   "execution_count": null,
   "metadata": {},
   "outputs": [],
   "source": [
    "import echofilter.raw"
   ]
  },
  {
   "cell_type": "code",
   "execution_count": null,
   "metadata": {},
   "outputs": [],
   "source": [
    "import os\n",
    "import numpy as np"
   ]
  },
  {
   "cell_type": "code",
   "execution_count": null,
   "metadata": {},
   "outputs": [],
   "source": [
    "import matplotlib.pyplot as plt\n",
    "import seaborn as sns\n",
    "sns.set()"
   ]
  },
  {
   "cell_type": "code",
   "execution_count": null,
   "metadata": {},
   "outputs": [],
   "source": [
    "turbulence_color = 'c'\n",
    "bottom_color = '#00ee00'"
   ]
  },
  {
   "cell_type": "code",
   "execution_count": null,
   "metadata": {},
   "outputs": [],
   "source": [
    "ROOT_DATA_DIR = '/media/scott/scratch/Datasets/dsforce/surveyExports'\n",
    "\n",
    "sample = 'mobile/Survey17/Survey17_GR4_T1W_E'\n",
    "\n",
    "# example with a gap\n",
    "sample = 'mobile/Survey16/Survey16_GR2_S3W_E'  # 115 apart = 3.47m\n",
    "sample = 'mobile/Survey16/Survey16_GR2_N1A_F'  #  45 apart = 1.36m\n",
    "\n",
    "fname_raw = os.path.join(ROOT_DATA_DIR, sample + '_Sv_raw.csv')\n",
    "fname_masked = os.path.join(ROOT_DATA_DIR, sample + '_Sv.csv')\n",
    "\n",
    "ts_raw, depths_raw, signals_raw = echofilter.raw.loader.transect_loader(fname_raw)\n",
    "ts_mskd, depths_mskd, signals_mskd = echofilter.raw.loader.transect_loader(fname_masked)\n",
    "\n",
    "t_bot, d_bot = echofilter.raw.loader.evl_loader(os.path.join(ROOT_DATA_DIR, sample + '_bottom.evl'))\n",
    "t_top, d_top = echofilter.raw.loader.evl_loader(os.path.join(ROOT_DATA_DIR, sample + '_turbulence.evl'))"
   ]
  },
  {
   "cell_type": "code",
   "execution_count": null,
   "metadata": {},
   "outputs": [],
   "source": [
    "ts_new, d_top_new, d_bot_new = echofilter.raw.manipulate.make_lines_from_masked_csv(fname_masked)"
   ]
  },
  {
   "cell_type": "code",
   "execution_count": null,
   "metadata": {},
   "outputs": [],
   "source": [
    "plt.figure(figsize=(12, 12))\n",
    "plt.pcolormesh(ts_mskd, depths_mskd, signals_mskd.T)\n",
    "plt.plot(ts_new, d_top_new, turbulence_color)\n",
    "plt.plot(ts_new, d_bot_new, bottom_color)\n",
    "plt.gca().invert_yaxis()\n",
    "plt.show()"
   ]
  },
  {
   "cell_type": "code",
   "execution_count": null,
   "metadata": {},
   "outputs": [],
   "source": [
    "# Zoomed in on top\n",
    "plt.figure(figsize=(12, 12))\n",
    "plt.pcolormesh(ts_mskd[-450:], depths_mskd[:500], signals_mskd[-450:, :500].T)\n",
    "plt.plot(ts_new[-450:], d_top_new[-450:], turbulence_color)\n",
    "# plt.plot(ts_new, d_bot_new, bottom_color)\n",
    "plt.gca().invert_yaxis()\n",
    "plt.show()"
   ]
  },
  {
   "cell_type": "markdown",
   "metadata": {},
   "source": [
    "### Check the resulting masks agree"
   ]
  },
  {
   "cell_type": "code",
   "execution_count": null,
   "metadata": {},
   "outputs": [],
   "source": [
    "ddepths = np.broadcast_to(depths_raw, signals_raw.shape)\n",
    "mask_top = np.single(ddepths < np.expand_dims(d_top_new, -1))\n",
    "mask_bot = np.single(ddepths > np.expand_dims(d_bot_new, -1))\n",
    "mask_new = ~np.any([mask_top, mask_bot], axis=0)"
   ]
  },
  {
   "cell_type": "code",
   "execution_count": null,
   "metadata": {},
   "outputs": [],
   "source": [
    "plt.figure(figsize=(12, 12))\n",
    "plt.pcolormesh(ts_mskd, depths_mskd[:2000], ~np.isnan(signals_mskd)[:, :2000].T)\n",
    "plt.plot(t_top, d_top, turbulence_color)\n",
    "plt.plot(t_bot, d_bot, bottom_color)\n",
    "plt.gca().invert_yaxis()\n",
    "plt.title('Original mask and lines')\n",
    "plt.show()"
   ]
  },
  {
   "cell_type": "code",
   "execution_count": null,
   "metadata": {},
   "outputs": [],
   "source": [
    "plt.figure(figsize=(12, 12))\n",
    "plt.pcolormesh(ts_mskd, depths_mskd[:2000], mask_new[:, :2000].T)\n",
    "plt.plot(ts_new, d_top_new, turbulence_color)\n",
    "plt.plot(ts_new, d_bot_new, bottom_color)\n",
    "plt.gca().invert_yaxis()\n",
    "plt.title('New mask and lines')\n",
    "plt.show()"
   ]
  },
  {
   "cell_type": "code",
   "execution_count": null,
   "metadata": {},
   "outputs": [],
   "source": [
    "plt.figure(figsize=(12, 12))\n",
    "plt.pcolormesh(ts_mskd, depths_mskd[:2000], (mask_new != ~np.isnan(signals_mskd))[:, :2000].T)\n",
    "# plt.plot(ts_new, d_top_new, turbulence_color)\n",
    "# plt.plot(ts_new, d_bot_new, bottom_color)\n",
    "plt.gca().invert_yaxis()\n",
    "plt.title('Mask difference')\n",
    "plt.show()"
   ]
  }
 ],
 "metadata": {
  "kernelspec": {
   "display_name": "Python 3",
   "language": "python",
   "name": "python3"
  },
  "language_info": {
   "codemirror_mode": {
    "name": "ipython",
    "version": 3
   },
   "file_extension": ".py",
   "mimetype": "text/x-python",
   "name": "python",
   "nbconvert_exporter": "python",
   "pygments_lexer": "ipython3",
   "version": "3.6.9"
  }
 },
 "nbformat": 4,
 "nbformat_minor": 2
}
