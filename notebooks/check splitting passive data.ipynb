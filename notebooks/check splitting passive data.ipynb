{
 "cells": [
  {
   "cell_type": "code",
   "execution_count": null,
   "metadata": {},
   "outputs": [],
   "source": [
    "cd .."
   ]
  },
  {
   "cell_type": "code",
   "execution_count": null,
   "metadata": {},
   "outputs": [],
   "source": [
    "import os\n",
    "\n",
    "import numpy as np"
   ]
  },
  {
   "cell_type": "code",
   "execution_count": null,
   "metadata": {},
   "outputs": [],
   "source": [
    "import matplotlib.pyplot as plt\n",
    "import seaborn as sns\n",
    "\n",
    "sns.set()"
   ]
  },
  {
   "cell_type": "code",
   "execution_count": null,
   "metadata": {},
   "outputs": [],
   "source": [
    "import echofilter.raw"
   ]
  },
  {
   "cell_type": "code",
   "execution_count": null,
   "metadata": {},
   "outputs": [],
   "source": [
    "turbulence_color = \"c\"\n",
    "bottom_color = \"#00ee00\""
   ]
  },
  {
   "cell_type": "code",
   "execution_count": null,
   "metadata": {},
   "outputs": [],
   "source": [
    "root_data_dir = \"/media/scott/scratch/Datasets/dsforce/surveyExports\"\n",
    "# example with 1 passive period, 1 turbulence cut out\n",
    "# sample = 'mobile/Survey16/Survey16_GR3_N1W_E'\n",
    "# example with lots of short passive periods, 1 proper passive period, 1 turbulence cut out\n",
    "sample = \"mobile/Survey17/Survey17_GR1_N0W_E\"\n",
    "# sample done incorrectly\n",
    "## sample = 'MinasPassage/march2018/march2018_D20180330-T202218_D20180331-T015214'\n",
    "\n",
    "# sample = 'MinasPassage/december2017/december2017_D20171214-T202211_D20171215-T015215'\n",
    "\n",
    "fname_raw = os.path.join(root_data_dir, sample + \"_Sv_raw.csv\")\n",
    "fname_masked = os.path.join(root_data_dir, sample + \"_Sv.csv\")\n",
    "\n",
    "ts_raw, depths_raw, signals_raw = echofilter.raw.loader.transect_loader(fname_raw)\n",
    "# ts_mskd, depths_mskd, signals_mskd = echofilter.raw.loader.transect_loader(fname_masked)\n",
    "\n",
    "# t_bot, d_bot = echofilter.raw.loader.evl_loader(os.path.join(root_data_dir, sample + '_bottom.evl'))\n",
    "# t_top, d_top = echofilter.raw.loader.evl_loader(os.path.join(root_data_dir, sample + '_turbulence.evl'))"
   ]
  },
  {
   "cell_type": "code",
   "execution_count": null,
   "metadata": {},
   "outputs": [],
   "source": [
    "passive_starts, passive_ends = echofilter.raw.manipulate.find_passive_data(signals_raw)\n",
    "print(passive_starts)\n",
    "print(passive_ends)"
   ]
  },
  {
   "cell_type": "code",
   "execution_count": null,
   "metadata": {},
   "outputs": [],
   "source": [
    "plt.figure(figsize=(12, 12))\n",
    "plt.pcolormesh(np.arange(0, signals_raw.shape[0]), depths_raw, signals_raw.T)\n",
    "\n",
    "for r_start, r_end in zip(passive_starts, passive_ends):\n",
    "    plt.fill_between(\n",
    "        [r_start, r_end],\n",
    "        depths_raw[[0, 0]],\n",
    "        depths_raw[[-1, -1]],\n",
    "        facecolor=\"none\",\n",
    "        hatch=\"//\",\n",
    "        edgecolor=\"k\",\n",
    "        linewidth=0.0,\n",
    "    )\n",
    "\n",
    "plt.xlabel(\"Timestamp (s)\")\n",
    "plt.ylabel(\"Depth (m)\")\n",
    "plt.gca().invert_yaxis()\n",
    "plt.show()"
   ]
  },
  {
   "cell_type": "code",
   "execution_count": null,
   "metadata": {},
   "outputs": [],
   "source": [
    "for index_start, index_end in zip(passive_starts, passive_ends):\n",
    "    plt.figure(figsize=(12, 12))\n",
    "    plt.pcolormesh(\n",
    "        ts_raw[index_start:index_end],\n",
    "        depths_raw,\n",
    "        signals_raw[index_start:index_end, :].T,\n",
    "    )\n",
    "    plt.gca().invert_yaxis()\n",
    "    plt.show()"
   ]
  },
  {
   "cell_type": "code",
   "execution_count": null,
   "metadata": {},
   "outputs": [],
   "source": [
    "for index_start, index_end in zip(\n",
    "    np.concatenate(([0], passive_ends)),\n",
    "    np.concatenate((passive_starts, [signals_raw.shape[0]])),\n",
    "):\n",
    "    index_start = int(index_start)\n",
    "    index_end = int(index_end)\n",
    "    if index_start == index_end:\n",
    "        continue\n",
    "    plt.figure(figsize=(12, 12))\n",
    "    plt.pcolormesh(\n",
    "        ts_raw[index_start:index_end],\n",
    "        depths_raw,\n",
    "        signals_raw[index_start:index_end, :].T,\n",
    "    )\n",
    "    plt.gca().invert_yaxis()\n",
    "    plt.show()"
   ]
  },
  {
   "cell_type": "code",
   "execution_count": null,
   "metadata": {},
   "outputs": [],
   "source": [
    "n_depth = 50\n",
    "\n",
    "plt.figure(figsize=(12, 12))\n",
    "plt.pcolormesh(\n",
    "    np.arange(0, signals_raw.shape[0]), depths_raw[:n_depth], signals_raw[:, :n_depth].T\n",
    ")\n",
    "\n",
    "for r_start, r_end in zip(passive_starts, passive_ends):\n",
    "    plt.fill_between(\n",
    "        [r_start, r_end],\n",
    "        depths_raw[[0, 0]],\n",
    "        depths_raw[[n_depth - 1, n_depth - 1]],\n",
    "        facecolor=\"none\",\n",
    "        hatch=\"//\",\n",
    "        edgecolor=\"k\",\n",
    "        linewidth=0.0,\n",
    "    )\n",
    "\n",
    "plt.xlabel(\"Timestamp (s)\")\n",
    "plt.ylabel(\"Depth (m)\")\n",
    "plt.gca().invert_yaxis()\n",
    "plt.show()"
   ]
  },
  {
   "cell_type": "code",
   "execution_count": null,
   "metadata": {},
   "outputs": [],
   "source": [
    "n_depth = 40\n",
    "\n",
    "for idx in np.concatenate((passive_starts, passive_ends)):\n",
    "    plt.figure(figsize=(12, 12))\n",
    "    plt.pcolormesh(\n",
    "        np.arange(max(0, idx - 4), min(len(ts_raw), idx + 5)),\n",
    "        depths_raw[:n_depth],\n",
    "        signals_raw[max(0, idx - 4) : min(len(ts_raw), idx + 5), :n_depth].T,\n",
    "    )\n",
    "    plt.gca().invert_yaxis()\n",
    "    plt.show()"
   ]
  },
  {
   "cell_type": "code",
   "execution_count": null,
   "metadata": {},
   "outputs": [],
   "source": [
    "t0 = 230  # 190  #  0\n",
    "t1 = 255  # 220  # 65  # signals_raw.shape[0]"
   ]
  },
  {
   "cell_type": "code",
   "execution_count": null,
   "metadata": {},
   "outputs": [],
   "source": [
    "n_depth = len(depths_raw)\n",
    "\n",
    "plt.figure(figsize=(12, 12))\n",
    "plt.pcolormesh(np.arange(t0, t1), depths_raw[:n_depth], signals_raw[t0:t1, :n_depth].T)\n",
    "\n",
    "for r_start, r_end in zip(passive_starts, passive_ends):\n",
    "    if r_end > n_times:\n",
    "        continue\n",
    "    plt.fill_between(\n",
    "        [r_start, r_end],\n",
    "        depths_raw[[0, 0]],\n",
    "        depths_raw[[n_depth - 1, n_depth - 1]],\n",
    "        facecolor=\"none\",\n",
    "        hatch=\"//\",\n",
    "        edgecolor=\"k\",\n",
    "        linewidth=0.0,\n",
    "    )\n",
    "\n",
    "plt.xlabel(\"Timestamp (s)\")\n",
    "plt.ylabel(\"Depth (m)\")\n",
    "plt.gca().invert_yaxis()\n",
    "plt.show()"
   ]
  },
  {
   "cell_type": "code",
   "execution_count": null,
   "metadata": {},
   "outputs": [],
   "source": [
    "n_depth = 50\n",
    "\n",
    "plt.figure(figsize=(12, 12))\n",
    "plt.pcolormesh(np.arange(t0, t1), depths_raw[:n_depth], signals_raw[t0:t1, :n_depth].T)\n",
    "\n",
    "for r_start, r_end in zip(passive_starts, passive_ends):\n",
    "    if r_end > n_times:\n",
    "        continue\n",
    "    plt.fill_between(\n",
    "        [r_start, r_end],\n",
    "        depths_raw[[0, 0]],\n",
    "        depths_raw[[n_depth - 1, n_depth - 1]],\n",
    "        facecolor=\"none\",\n",
    "        hatch=\"//\",\n",
    "        edgecolor=\"k\",\n",
    "        linewidth=0.0,\n",
    "    )\n",
    "\n",
    "plt.xlabel(\"Timestamp (s)\")\n",
    "plt.ylabel(\"Depth (m)\")\n",
    "plt.gca().invert_yaxis()\n",
    "plt.show()"
   ]
  },
  {
   "cell_type": "code",
   "execution_count": null,
   "metadata": {},
   "outputs": [],
   "source": [
    "n_depth = 65\n",
    "\n",
    "plt.figure(figsize=(12, 12))\n",
    "plt.pcolormesh(\n",
    "    np.arange(t0, t1),\n",
    "    depths_raw[:n_depth],\n",
    "    np.diff(signals_raw[t0:t1, :n_depth], axis=0).T,\n",
    ")\n",
    "plt.colorbar()\n",
    "plt.show()"
   ]
  },
  {
   "cell_type": "code",
   "execution_count": null,
   "metadata": {},
   "outputs": [],
   "source": [
    "n_depth = 40\n",
    "\n",
    "plt.figure(figsize=(12, 12))\n",
    "plt.pcolormesh(\n",
    "    np.arange(t0, t1),\n",
    "    depths_raw[:n_depth],\n",
    "    np.diff(signals_raw[t0:t1, :n_depth], axis=0).T,\n",
    ")\n",
    "plt.colorbar()\n",
    "plt.show()\n",
    "\n",
    "plt.figure(figsize=(12, 9))\n",
    "plt.plot(np.median(np.diff(signals_raw[t0:t1, :n_depth], axis=0), axis=1))\n",
    "plt.show()\n",
    "\n",
    "plt.figure(figsize=(12, 9))\n",
    "plt.plot(np.mean(np.diff(signals_raw[t0:t1, :n_depth], axis=0), axis=1))\n",
    "plt.show()"
   ]
  },
  {
   "cell_type": "code",
   "execution_count": null,
   "metadata": {},
   "outputs": [],
   "source": [
    "plt.figure(figsize=(12, 9))\n",
    "for n_depth in [20, 26, 27, 30, 35, 40, 45, 50, 60, signals_raw.shape[1]]:\n",
    "    yy = np.median(np.diff(signals_raw[t0:t1, :n_depth], axis=0), axis=1)\n",
    "    plt.plot(yy, label=\"{}: {}\".format(n_depth, np.max(np.abs(yy))))\n",
    "plt.legend()\n",
    "plt.show()"
   ]
  },
  {
   "cell_type": "code",
   "execution_count": null,
   "metadata": {},
   "outputs": [],
   "source": [
    "plt.figure(figsize=(12, 9))\n",
    "for n_depth in [20, 26, 27, 30, 35, 40, 45, 50, 60, signals_raw.shape[1]]:\n",
    "    yy = np.median(np.diff(signals_raw[t0:t1, :n_depth], axis=0), axis=1)\n",
    "    plt.plot(yy, label=\"{}: {}\".format(n_depth, np.max(np.abs(yy))))\n",
    "plt.legend()\n",
    "plt.show()"
   ]
  },
  {
   "cell_type": "code",
   "execution_count": null,
   "metadata": {},
   "outputs": [],
   "source": [
    "n_depths = [\n",
    "    10,\n",
    "    20,\n",
    "    25,\n",
    "    26,\n",
    "    29,\n",
    "    30,\n",
    "    31,\n",
    "    32,\n",
    "    33,\n",
    "    34,\n",
    "    35,\n",
    "    36,\n",
    "    37,\n",
    "    38,\n",
    "    39,\n",
    "    40,\n",
    "    41,\n",
    "    42,\n",
    "    43,\n",
    "    44,\n",
    "    45,\n",
    "    50,\n",
    "    60,\n",
    "    100,\n",
    "]\n",
    "medians = []\n",
    "means = []\n",
    "\n",
    "for n_depth in n_depths:\n",
    "    yy = np.diff(signals_raw[t0:t1, :n_depth], axis=0)\n",
    "    medians.append(np.max(np.abs(np.median(yy, axis=1))))\n",
    "    means.append(np.max(np.abs(np.mean(yy, axis=1))))\n",
    "\n",
    "plt.plot(n_depths, medians, label=\"median\")\n",
    "plt.plot(n_depths, means, label=\"mean\")\n",
    "\n",
    "plt.legend()\n",
    "plt.show()"
   ]
  },
  {
   "cell_type": "code",
   "execution_count": null,
   "metadata": {},
   "outputs": [],
   "source": [
    "medians"
   ]
  },
  {
   "cell_type": "code",
   "execution_count": null,
   "metadata": {},
   "outputs": [],
   "source": [
    "n_depths"
   ]
  }
 ],
 "metadata": {
  "kernelspec": {
   "display_name": "Python 3",
   "language": "python",
   "name": "python3"
  },
  "language_info": {
   "codemirror_mode": {
    "name": "ipython",
    "version": 3
   },
   "file_extension": ".py",
   "mimetype": "text/x-python",
   "name": "python",
   "nbconvert_exporter": "python",
   "pygments_lexer": "ipython3",
   "version": "3.6.9"
  }
 },
 "nbformat": 4,
 "nbformat_minor": 2
}
