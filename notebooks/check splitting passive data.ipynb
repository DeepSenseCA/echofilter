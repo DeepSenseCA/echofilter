{
 "cells": [
  {
   "cell_type": "code",
   "execution_count": null,
   "metadata": {},
   "outputs": [],
   "source": [
    "cd .."
   ]
  },
  {
   "cell_type": "code",
   "execution_count": null,
   "metadata": {},
   "outputs": [],
   "source": [
    "import os\n",
    "import numpy as np"
   ]
  },
  {
   "cell_type": "code",
   "execution_count": null,
   "metadata": {},
   "outputs": [],
   "source": [
    "import matplotlib.pyplot as plt\n",
    "import seaborn as sns\n",
    "sns.set()"
   ]
  },
  {
   "cell_type": "code",
   "execution_count": null,
   "metadata": {},
   "outputs": [],
   "source": [
    "import echofilter.raw"
   ]
  },
  {
   "cell_type": "code",
   "execution_count": null,
   "metadata": {},
   "outputs": [],
   "source": [
    "top_color = 'c'\n",
    "bot_color = '#00ee00'"
   ]
  },
  {
   "cell_type": "code",
   "execution_count": null,
   "metadata": {},
   "outputs": [],
   "source": [
    "root_data_dir = '/media/scott/scratch/Datasets/dsforce/surveyExports'\n",
    "# example with 1 passive period, 1 turbulence cut out\n",
    "# sample = 'mobile/Survey16/Survey16_GR3_N1W_E'\n",
    "# example with lots of short passive periods, 1 proper passive period, 1 turbulence cut out\n",
    "sample = 'mobile/Survey17/Survey17_GR1_N0W_E'\n",
    "# sample done incorrectly\n",
    "## sample = 'stationary/march2018/evExports/march2018_D20180330-T202218_D20180331-T015214'\n",
    "\n",
    "# sample = 'stationary/december2017/evExports/december2017_D20171214-T202211_D20171215-T015215'\n",
    "\n",
    "fname_raw = os.path.join(root_data_dir, sample + '_Sv_raw.csv')\n",
    "fname_masked = os.path.join(root_data_dir, sample + '_Sv.csv')\n",
    "\n",
    "ts_raw, depths_raw, signals_raw = echofilter.raw.loader.transect_loader(fname_raw)\n",
    "# ts_mskd, depths_mskd, signals_mskd = echofilter.raw.loader.transect_loader(fname_masked)\n",
    "\n",
    "# t_bot, d_bot = echofilter.raw.loader.evl_loader(os.path.join(root_data_dir, sample + '_bottom.evl'))\n",
    "# t_top, d_top = echofilter.raw.loader.evl_loader(os.path.join(root_data_dir, sample + '_turbulence.evl'))"
   ]
  },
  {
   "cell_type": "code",
   "execution_count": null,
   "metadata": {},
   "outputs": [],
   "source": [
    "passive_starts, passive_ends = echofilter.raw.manipulate.find_passive_data(signals_raw)\n",
    "print(passive_starts)\n",
    "print(passive_ends)"
   ]
  },
  {
   "cell_type": "code",
   "execution_count": null,
   "metadata": {},
   "outputs": [],
   "source": [
    "plt.figure(figsize=(12, 12))\n",
    "plt.pcolormesh(np.arange(0, signals_raw.shape[0]), depths_raw, signals_raw.T)\n",
    "\n",
    "for r_start, r_end in zip(passive_starts, passive_ends):\n",
    "    plt.fill_between(\n",
    "        [r_start, r_end],\n",
    "        depths_raw[[0, 0]],\n",
    "        depths_raw[[-1, -1]],\n",
    "        facecolor=\"none\",\n",
    "        hatch=\"//\",\n",
    "        edgecolor=\"k\",\n",
    "        linewidth=0.0,\n",
    "    )\n",
    "\n",
    "plt.xlabel('Timestamp (s)')\n",
    "plt.ylabel('Depth (m)')\n",
    "plt.gca().invert_yaxis()\n",
    "plt.show()"
   ]
  },
  {
   "cell_type": "code",
   "execution_count": null,
   "metadata": {},
   "outputs": [],
   "source": [
    "for index_start, index_end in zip(passive_starts, passive_ends):\n",
    "    plt.figure(figsize=(12, 12))\n",
    "    plt.pcolormesh(ts_raw[index_start:index_end], depths_raw, signals_raw[index_start:index_end, :].T)\n",
    "    plt.gca().invert_yaxis()\n",
    "    plt.show()"
   ]
  },
  {
   "cell_type": "code",
   "execution_count": null,
   "metadata": {},
   "outputs": [],
   "source": [
    "for index_start, index_end in zip(\n",
    "        np.concatenate(([0], passive_ends)),\n",
    "        np.concatenate((passive_starts, [signals_raw.shape[0]]))\n",
    "    ):\n",
    "    index_start = int(index_start)\n",
    "    index_end = int(index_end)\n",
    "    if index_start == index_end:\n",
    "        continue\n",
    "    plt.figure(figsize=(12, 12))\n",
    "    plt.pcolormesh(ts_raw[index_start:index_end], depths_raw, signals_raw[index_start:index_end, :].T)\n",
    "    plt.gca().invert_yaxis()\n",
    "    plt.show()"
   ]
  }
 ],
 "metadata": {
  "kernelspec": {
   "display_name": "Python 3",
   "language": "python",
   "name": "python3"
  },
  "language_info": {
   "codemirror_mode": {
    "name": "ipython",
    "version": 3
   },
   "file_extension": ".py",
   "mimetype": "text/x-python",
   "name": "python",
   "nbconvert_exporter": "python",
   "pygments_lexer": "ipython3",
   "version": "3.6.9"
  }
 },
 "nbformat": 4,
 "nbformat_minor": 2
}
