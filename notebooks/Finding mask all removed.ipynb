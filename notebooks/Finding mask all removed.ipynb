{
 "cells": [
  {
   "cell_type": "code",
   "execution_count": null,
   "metadata": {},
   "outputs": [],
   "source": [
    "cd .."
   ]
  },
  {
   "cell_type": "code",
   "execution_count": null,
   "metadata": {},
   "outputs": [],
   "source": [
    "import echofilter.raw.loader"
   ]
  },
  {
   "cell_type": "code",
   "execution_count": null,
   "metadata": {},
   "outputs": [],
   "source": [
    "import os"
   ]
  },
  {
   "cell_type": "code",
   "execution_count": null,
   "metadata": {},
   "outputs": [],
   "source": [
    "import numpy as np"
   ]
  },
  {
   "cell_type": "code",
   "execution_count": null,
   "metadata": {},
   "outputs": [],
   "source": [
    "import matplotlib.pyplot as plt\n",
    "import seaborn as sns\n",
    "sns.set()"
   ]
  },
  {
   "cell_type": "code",
   "execution_count": null,
   "metadata": {},
   "outputs": [],
   "source": [
    "ROOT_DATA_DIR = '/media/scott/scratch/Datasets/dsforce/surveyExports'\n",
    "# example with 1 passive period, 1 turbulence cut out\n",
    "sample = 'mobile/Survey16/Survey16_GR3_N1W_E'\n",
    "# example with lots of short passive periods, 1 proper passive period, 1 turbulence cut out\n",
    "# sample = 'mobile/Survey17/Survey17_GR1_N0W_E'\n",
    "\n",
    "fname_raw = os.path.join(ROOT_DATA_DIR, sample + '_Sv_raw.csv')\n",
    "fname_masked = os.path.join(ROOT_DATA_DIR, sample + '_Sv.csv')\n",
    "\n",
    "ts_raw, depths_raw, signals_raw = echofilter.raw.loader.transect_loader(fname_raw)\n",
    "ts_mskd, depths_mskd, signals_mskd = echofilter.raw.loader.transect_loader(fname_masked)\n",
    "\n",
    "t_bot, d_bot = echofilter.raw.loader.evl_loader(os.path.join(ROOT_DATA_DIR, sample + '_bottom.evl'))\n",
    "t_top, d_top = echofilter.raw.loader.evl_loader(os.path.join(ROOT_DATA_DIR, sample + '_turbulence.evl'))"
   ]
  },
  {
   "cell_type": "code",
   "execution_count": null,
   "metadata": {},
   "outputs": [],
   "source": [
    "ts_new, d_top_new, d_bot_new = echofilter.raw.manipulate.make_lines_from_masked_csv(fname_masked)"
   ]
  },
  {
   "cell_type": "code",
   "execution_count": null,
   "metadata": {},
   "outputs": [],
   "source": [
    "np.min(signals_raw), np.max(signals_raw)"
   ]
  },
  {
   "cell_type": "code",
   "execution_count": null,
   "metadata": {},
   "outputs": [],
   "source": [
    "ts_raw.shape, depths_raw.shape, signals_raw.shape"
   ]
  },
  {
   "cell_type": "code",
   "execution_count": null,
   "metadata": {},
   "outputs": [],
   "source": [
    "turbulence_color = 'c'\n",
    "bottom_color = '#00ee00'"
   ]
  },
  {
   "cell_type": "code",
   "execution_count": null,
   "metadata": {},
   "outputs": [],
   "source": [
    "plt.figure(figsize=(12, 12))\n",
    "plt.pcolormesh(ts_raw, depths_raw, signals_raw.T)\n",
    "plt.plot(t_top, d_top, 'k')\n",
    "plt.plot(t_bot, d_bot, 'w')\n",
    "plt.plot(ts_new, d_top_new, turbulence_color)\n",
    "plt.plot(ts_new, d_bot_new, bottom_color)\n",
    "plt.gca().invert_yaxis()\n",
    "plt.show()"
   ]
  },
  {
   "cell_type": "code",
   "execution_count": null,
   "metadata": {},
   "outputs": [],
   "source": [
    "plt.figure(figsize=(12, 12))\n",
    "plt.pcolormesh(ts_mskd, depths_mskd, signals_mskd.T)\n",
    "plt.plot(t_top, d_top, turbulence_color)\n",
    "plt.plot(t_bot, d_bot, bottom_color)\n",
    "plt.gca().invert_yaxis()\n",
    "plt.show()"
   ]
  },
  {
   "cell_type": "markdown",
   "metadata": {},
   "source": [
    "## Finding rows which are fully removed from masked output"
   ]
  },
  {
   "cell_type": "code",
   "execution_count": null,
   "metadata": {},
   "outputs": [],
   "source": [
    "np.all(np.isnan(signals_mskd), axis=1)"
   ]
  },
  {
   "cell_type": "code",
   "execution_count": null,
   "metadata": {},
   "outputs": [],
   "source": [
    "allnan = np.all(np.isnan(signals_mskd), axis=1)\n",
    "removed_starts = np.nonzero(np.diff(allnan.astype(np.float)) > 0)[0] + 1\n",
    "removed_ends = np.nonzero(np.diff(allnan.astype(np.float)) < 0)[0] + 1\n",
    "\n",
    "if removed_ends[0] < removed_starts[0]:\n",
    "    removed_starts = np.concatenate(([0], removed_starts))\n",
    "\n",
    "if removed_starts[-1] > removed_ends[-1]:\n",
    "    removed_ends = np.concatenate((removed_ends, [len(allnan)]))"
   ]
  },
  {
   "cell_type": "code",
   "execution_count": null,
   "metadata": {},
   "outputs": [],
   "source": [
    "print(removed_starts)\n",
    "print(removed_ends)"
   ]
  },
  {
   "cell_type": "code",
   "execution_count": null,
   "metadata": {},
   "outputs": [],
   "source": [
    "for index_start, index_end in zip(removed_starts, removed_ends):\n",
    "    for ts, depths, signals in ((ts_mskd, depths_mskd, signals_mskd), (ts_raw, depths_raw, signals_raw)):\n",
    "        an = np.all(np.isnan(signals[index_start:index_end, :]), axis=1)\n",
    "        print(np.sum(an), np.sum(~an))\n",
    "        plt.figure(figsize=(12, 12))\n",
    "        plt.pcolormesh(ts[index_start:index_end], depths, signals[index_start:index_end, :].T)\n",
    "        li = np.all([t_top >= ts[index_start], t_top <= ts[index_end - 1]], axis=0)\n",
    "        plt.plot(t_top[li], d_top[li], 'k')\n",
    "        li = np.all([t_bot >= ts[index_start], t_bot <= ts[index_end - 1]], axis=0)\n",
    "        plt.plot(t_bot[li], d_bot[li], 'w')\n",
    "        plt.plot(ts_new[index_start:index_end], d_top_new[index_start:index_end], turbulence_color)\n",
    "        plt.plot(ts_new[index_start:index_end], d_bot_new[index_start:index_end], bottom_color)\n",
    "        plt.gca().invert_yaxis()\n",
    "        plt.show()"
   ]
  },
  {
   "cell_type": "code",
   "execution_count": null,
   "metadata": {},
   "outputs": [],
   "source": [
    "for index_start, index_end in zip(\n",
    "        np.concatenate(([0], removed_ends)),\n",
    "        np.concatenate((removed_starts, [signals_raw.shape[0]]))\n",
    "    ):\n",
    "    if index_start == index_end:\n",
    "        continue\n",
    "    for ts, depths, signals in ((ts_mskd, depths_mskd, signals_mskd), (ts_raw, depths_raw, signals_raw)):\n",
    "        an = np.all(np.isnan(signals[index_start:index_end, :]), axis=1)\n",
    "        print(np.sum(an), np.sum(~an))\n",
    "        plt.figure(figsize=(12, 12))\n",
    "        plt.pcolormesh(ts[index_start:index_end], depths, signals[index_start:index_end, :].T)\n",
    "        li = np.all([t_top >= ts[index_start], t_top <= ts[index_end - 1]], axis=0)\n",
    "        plt.plot(t_top[li], d_top[li], 'k')\n",
    "        li = np.all([t_bot >= ts[index_start], t_bot <= ts[index_end - 1]], axis=0)\n",
    "        plt.plot(t_bot[li], d_bot[li], 'w')\n",
    "        plt.plot(ts_new[index_start:index_end], d_top_new[index_start:index_end], turbulence_color)\n",
    "        plt.plot(ts_new[index_start:index_end], d_bot_new[index_start:index_end], bottom_color)\n",
    "        plt.gca().invert_yaxis()\n",
    "        plt.show()"
   ]
  },
  {
   "cell_type": "code",
   "execution_count": null,
   "metadata": {},
   "outputs": [],
   "source": [
    "print(signals_raw.shape)\n",
    "print(signals_mskd.shape)"
   ]
  },
  {
   "cell_type": "code",
   "execution_count": null,
   "metadata": {},
   "outputs": [],
   "source": [
    "plt.figure(figsize=(12, 12))\n",
    "plt.pcolormesh(ts_raw[234:257], depths_raw[:34], signals_raw[234:257, :34].T)\n",
    "plt.gca().invert_yaxis()\n",
    "plt.show()\n",
    "\n",
    "plt.figure(figsize=(12, 12))\n",
    "plt.pcolormesh(ts_raw[235:256], depths_raw[:34], signals_raw[235:256, :34].T)\n",
    "plt.gca().invert_yaxis()\n",
    "plt.show()"
   ]
  },
  {
   "cell_type": "code",
   "execution_count": null,
   "metadata": {},
   "outputs": [],
   "source": [
    "plt.figure(figsize=(12, 12))\n",
    "plt.pcolormesh(ts_mskd[234:257], depths_mskd[:34], signals_mskd[234:257, :34].T)\n",
    "plt.gca().invert_yaxis()\n",
    "plt.show()\n",
    "\n",
    "plt.figure(figsize=(12, 12))\n",
    "plt.pcolormesh(ts_mskd[235:256], depths_mskd[:34], signals_mskd[235:256, :34].T)\n",
    "plt.gca().invert_yaxis()\n",
    "plt.show()"
   ]
  },
  {
   "cell_type": "code",
   "execution_count": null,
   "metadata": {},
   "outputs": [],
   "source": [
    "plt.figure(figsize=(12, 12))\n",
    "plt.pcolormesh(ts_mskd[234:257], depths_mskd, signals_mskd[234:257, :].T)\n",
    "plt.gca().invert_yaxis()\n",
    "plt.show()\n",
    "\n",
    "plt.figure(figsize=(12, 12))\n",
    "plt.pcolormesh(ts_mskd[235:256], depths_mskd, signals_mskd[235:256, :].T)\n",
    "plt.gca().invert_yaxis()\n",
    "plt.show()"
   ]
  },
  {
   "cell_type": "code",
   "execution_count": null,
   "metadata": {},
   "outputs": [],
   "source": [
    "np.nonzero(allnan)"
   ]
  }
 ],
 "metadata": {
  "kernelspec": {
   "display_name": "Python 3",
   "language": "python",
   "name": "python3"
  },
  "language_info": {
   "codemirror_mode": {
    "name": "ipython",
    "version": 3
   },
   "file_extension": ".py",
   "mimetype": "text/x-python",
   "name": "python",
   "nbconvert_exporter": "python",
   "pygments_lexer": "ipython3",
   "version": "3.6.9"
  }
 },
 "nbformat": 4,
 "nbformat_minor": 2
}
