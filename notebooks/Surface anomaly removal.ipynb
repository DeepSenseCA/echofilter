{
 "cells": [
  {
   "cell_type": "code",
   "execution_count": null,
   "metadata": {},
   "outputs": [],
   "source": [
    "cd .."
   ]
  },
  {
   "cell_type": "code",
   "execution_count": null,
   "metadata": {},
   "outputs": [],
   "source": [
    "import copy\n",
    "import os"
   ]
  },
  {
   "cell_type": "code",
   "execution_count": null,
   "metadata": {},
   "outputs": [],
   "source": [
    "import numpy as np"
   ]
  },
  {
   "cell_type": "code",
   "execution_count": null,
   "metadata": {},
   "outputs": [],
   "source": [
    "import scipy.ndimage\n",
    "import scipy.signal"
   ]
  },
  {
   "cell_type": "code",
   "execution_count": null,
   "metadata": {},
   "outputs": [],
   "source": [
    "import matplotlib.pyplot as plt\n",
    "import seaborn as sns\n",
    "\n",
    "sns.set()"
   ]
  },
  {
   "cell_type": "code",
   "execution_count": null,
   "metadata": {},
   "outputs": [],
   "source": [
    "import echofilter.plotting\n",
    "import echofilter.raw"
   ]
  },
  {
   "cell_type": "code",
   "execution_count": null,
   "metadata": {},
   "outputs": [],
   "source": [
    "root_data_dir = \"/media/scott/scratch/Datasets/dsforce/surveyExports\""
   ]
  },
  {
   "cell_type": "code",
   "execution_count": null,
   "metadata": {},
   "outputs": [],
   "source": [
    "# first val sample for stationary\n",
    "sample = \"MinasPassage/december2017/december2017_D20180108-T045216_D20180108-T102216\"\n",
    "sample = \"MinasPassage/march2018/march2018_D20180330-T202218_D20180331-T015214\""
   ]
  },
  {
   "cell_type": "code",
   "execution_count": null,
   "metadata": {},
   "outputs": [],
   "source": [
    "transect = echofilter.raw.manipulate.load_decomposed_transect_mask(\n",
    "    os.path.join(root_data_dir, sample),\n",
    ")"
   ]
  },
  {
   "cell_type": "code",
   "execution_count": null,
   "metadata": {},
   "outputs": [],
   "source": [
    "plt.figure(figsize=(15, 9))\n",
    "echofilter.plotting.plot_transect(transect)\n",
    "plt.show()"
   ]
  },
  {
   "cell_type": "code",
   "execution_count": null,
   "metadata": {},
   "outputs": [],
   "source": [
    "fname_surface = os.path.join(root_data_dir, sample + \"_surface.evl\")\n",
    "t_surface, d_surface = echofilter.raw.loader.evl_loader(fname_surface)"
   ]
  },
  {
   "cell_type": "code",
   "execution_count": null,
   "metadata": {},
   "outputs": [],
   "source": [
    "ts_raw = transect[\"timestamps\"]\n",
    "d_surface = transect[\"surface\"]"
   ]
  },
  {
   "cell_type": "code",
   "execution_count": null,
   "metadata": {},
   "outputs": [],
   "source": [
    "ts_raw"
   ]
  },
  {
   "cell_type": "code",
   "execution_count": null,
   "metadata": {},
   "outputs": [],
   "source": [
    "plt.figure(figsize=(15, 9))\n",
    "plt.plot(d_surface)"
   ]
  },
  {
   "cell_type": "code",
   "execution_count": null,
   "metadata": {},
   "outputs": [],
   "source": [
    "segments = list(echofilter.raw.manipulate.split_transect(**transect))"
   ]
  },
  {
   "cell_type": "code",
   "execution_count": null,
   "metadata": {},
   "outputs": [],
   "source": [
    "for i_segment, segment in enumerate(segments):\n",
    "    plt.figure(figsize=(15, 9))\n",
    "    plt.plot(segment[\"surface\"])\n",
    "    plt.title(\"{}  #{}\".format(sample, i_segment))"
   ]
  },
  {
   "cell_type": "code",
   "execution_count": null,
   "metadata": {},
   "outputs": [],
   "source": [
    "i_segment = 8\n",
    "segment = segments[i_segment]\n",
    "# Remove passive data from the signal\n",
    "signal = segment[\"surface\"][segment[\"is_passive\"] < 0.5]"
   ]
  },
  {
   "cell_type": "code",
   "execution_count": null,
   "metadata": {},
   "outputs": [],
   "source": [
    "sigma = 50\n",
    "smoothed = scipy.ndimage.gaussian_filter1d(signal, sigma, axis=0)\n",
    "\n",
    "ks = 175\n",
    "offset = ks // 2\n",
    "medfiltered = scipy.signal.medfilt(\n",
    "    np.pad(signal, (offset, offset), mode=\"reflect\"), ks\n",
    ")[offset:-offset]\n",
    "\n",
    "savgoled = scipy.signal.savgol_filter(signal, ks, 3)\n",
    "\n",
    "plt.figure(figsize=(15, 9))\n",
    "plt.plot(signal, label=\"original\")\n",
    "plt.plot(smoothed, label=\"gaussian, sigma={}\".format(sigma))\n",
    "plt.plot(medfiltered, label=\"median, kernel={}\".format(ks))\n",
    "plt.plot(savgoled, label=\"SavGol, kernel={}\".format(ks))\n",
    "plt.legend()\n",
    "plt.show()"
   ]
  },
  {
   "cell_type": "code",
   "execution_count": null,
   "metadata": {},
   "outputs": [],
   "source": [
    "residual = signal - medfiltered\n",
    "\n",
    "stdev = np.diff(np.percentile(residual, [25, 75])).item() / 1.35\n",
    "print(stdev)\n",
    "\n",
    "plt.figure(figsize=(15, 9))\n",
    "plt.plot(residual, label=\"residual\")\n",
    "plt.axhline(stdev, color=\"g\", ls=\":\")\n",
    "plt.axhline(-stdev, color=\"g\", ls=\":\")\n",
    "plt.axhline(stdev * 5, color=\"r\", ls=\":\")\n",
    "plt.axhline(-stdev * 5, color=\"r\", ls=\":\")\n",
    "plt.legend()\n",
    "plt.show()"
   ]
  },
  {
   "cell_type": "code",
   "execution_count": null,
   "metadata": {},
   "outputs": [],
   "source": [
    "is_good_line = np.abs(residual) < 5 * stdev"
   ]
  },
  {
   "cell_type": "code",
   "execution_count": null,
   "metadata": {},
   "outputs": [],
   "source": [
    "ii = np.arange(len(signal))\n",
    "\n",
    "new_line = signal.copy()\n",
    "new_line[~is_good_line] = np.interp(\n",
    "    ii[~is_good_line], ii[is_good_line], medfiltered[is_good_line]\n",
    ")\n",
    "\n",
    "plt.figure(figsize=(15, 9))\n",
    "plt.plot(signal, label=\"original\")\n",
    "plt.plot(new_line, label=\"new\")\n",
    "plt.show()"
   ]
  },
  {
   "cell_type": "code",
   "execution_count": null,
   "metadata": {},
   "outputs": [],
   "source": [
    "sigma = 5\n",
    "new_smoothed = scipy.ndimage.gaussian_filter1d(new_line, sigma, axis=0)\n",
    "\n",
    "ks = 31\n",
    "offset = ks // 2\n",
    "new_medfiltered = scipy.signal.medfilt(\n",
    "    np.pad(new_line, (offset, offset), mode=\"reflect\"), ks\n",
    ")[offset:-offset]\n",
    "\n",
    "new_savgoled = scipy.signal.savgol_filter(new_line, ks, 2)\n",
    "\n",
    "plt.figure(figsize=(15, 9))\n",
    "plt.plot(new_line, label=\"new_line\")\n",
    "plt.plot(new_smoothed, label=\"gaussian, sigma={}\".format(sigma))\n",
    "plt.plot(new_medfiltered, label=\"median, kernel={}\".format(ks))\n",
    "plt.plot(new_savgoled, label=\"SavGol, kernel={}\".format(ks))\n",
    "plt.legend()\n",
    "plt.show()"
   ]
  },
  {
   "cell_type": "code",
   "execution_count": null,
   "metadata": {},
   "outputs": [],
   "source": [
    "new_residual = new_line - new_smoothed\n",
    "\n",
    "stdev = np.diff(np.percentile(new_residual[is_good_line], [25, 75])).item() / 1.35\n",
    "print(stdev)\n",
    "\n",
    "stdev = np.diff(np.percentile(new_residual[is_good_line], [10, 90])).item() / 2.56\n",
    "print(stdev)\n",
    "\n",
    "plt.figure(figsize=(15, 9))\n",
    "plt.plot(new_residual, label=\"smoothed-residual\")\n",
    "plt.axhline(stdev, color=\"g\", ls=\":\")\n",
    "plt.axhline(-stdev, color=\"g\", ls=\":\")\n",
    "plt.axhline(stdev * 4, color=\"r\", ls=\":\")\n",
    "plt.axhline(-stdev * 4, color=\"r\", ls=\":\")\n",
    "plt.show()"
   ]
  },
  {
   "cell_type": "code",
   "execution_count": null,
   "metadata": {},
   "outputs": [],
   "source": [
    "new_residual = new_line - new_medfiltered\n",
    "\n",
    "stdev = np.diff(np.percentile(new_residual[is_good_line], [25, 75])).item() / 1.35\n",
    "print(stdev)\n",
    "\n",
    "stdev = np.diff(np.percentile(new_residual[is_good_line], [10, 90])).item() / 2.56\n",
    "print(stdev)\n",
    "\n",
    "plt.figure(figsize=(15, 9))\n",
    "plt.plot(new_residual, label=\"smoothed-residual\")\n",
    "plt.axhline(stdev, color=\"g\", ls=\":\")\n",
    "plt.axhline(-stdev, color=\"g\", ls=\":\")\n",
    "plt.axhline(stdev * 4, color=\"r\", ls=\":\")\n",
    "plt.axhline(-stdev * 4, color=\"r\", ls=\":\")\n",
    "plt.show()"
   ]
  },
  {
   "cell_type": "code",
   "execution_count": null,
   "metadata": {},
   "outputs": [],
   "source": [
    "def remove_anomalies_1d(signal, thr=4, median_kernel=51, gaussian_sigma=5):\n",
    "    \"\"\"\n",
    "    remove anomalies from signal\n",
    "    \"\"\"\n",
    "    signal = np.copy(signal)\n",
    "\n",
    "    # Median filtering, with reflection padding\n",
    "    offset = median_kernel // 2\n",
    "    smoothed = scipy.signal.medfilt(\n",
    "        np.pad(signal, (offset, offset), mode=\"reflect\"),\n",
    "        median_kernel,\n",
    "    )[offset:-offset]\n",
    "    # Measure the residual between the original and median filtered signal\n",
    "    residual = signal - smoothed\n",
    "    # Replace datapoints more than 4 sigma away from the median filter\n",
    "    # with the filtered signal\n",
    "    stdev = np.diff(np.percentile(residual, [25, 75])).item() / 1.35\n",
    "    is_fixed = np.abs(residual) > thr * stdev\n",
    "    signal[is_fixed] = smoothed[is_fixed]\n",
    "\n",
    "    # Smooth signal with a gaussian kernel\n",
    "    while True:\n",
    "        smoothed = scipy.ndimage.gaussian_filter1d(signal, gaussian_sigma, axis=0)\n",
    "        # Mesure new residual\n",
    "        residual = signal - smoothed\n",
    "        stdev = np.diff(np.percentile(residual[~is_fixed], [10, 90])).item() / 2.56\n",
    "        is_fixed_now = np.abs(residual) > thr * stdev\n",
    "        is_fixed |= is_fixed_now\n",
    "        signal[is_fixed] = smoothed[is_fixed]\n",
    "        if not np.any(is_fixed_now):\n",
    "            break\n",
    "\n",
    "    return signal, is_fixed"
   ]
  },
  {
   "cell_type": "code",
   "execution_count": null,
   "metadata": {},
   "outputs": [],
   "source": [
    "from echofilter.raw.utils import pad1d\n",
    "\n",
    "\n",
    "def medfilt1d(signal, kernel_size, axis=-1, pad_mode=\"reflect\"):\n",
    "    \"\"\"\n",
    "    Median filter in 1d, with support for selecting padding mode.\n",
    "\n",
    "    Parameters\n",
    "    ----------\n",
    "    signal : array_like\n",
    "        The signal to filter.\n",
    "    kernel_size\n",
    "        Size of the median kernel to use.\n",
    "    axis : int, optional\n",
    "        Which axis to operate along. Default is `-1`.\n",
    "    pad_mode : str, optional\n",
    "        Method with which to pad the vector at the edges.\n",
    "        Must be supported by `numpy.pad`. Default is `\"reflect\"`.\n",
    "\n",
    "    Returns\n",
    "    -------\n",
    "    filtered : array_like\n",
    "        The filtered signal.\n",
    "\n",
    "    See also\n",
    "    --------\n",
    "    - `scipy.signal.medfilt`\n",
    "    - `pad1d`\n",
    "    \"\"\"\n",
    "    offset = kernel_size // 2\n",
    "    signal = pad1d(signal, offset, axis=axis, mode=pad_mode)\n",
    "    filtered = scipy.signal.medfilt(signal, kernel_size)[offset:-offset]\n",
    "    return filtered\n",
    "\n",
    "\n",
    "def remove_anomalies_1d(signal, thr=5, thr2=4, kernel=201, kernel2=31):\n",
    "    \"\"\"\n",
    "    Remove anomalies from a temporal signal.\n",
    "\n",
    "    Applies a median filter to the data, and replaces datapoints which\n",
    "    deviate from the median filtered signal by more than some threshold\n",
    "    with the median filtered data. This process is repeated until no\n",
    "    datapoints deviate from the filtered line by more than the threshold.\n",
    "\n",
    "    Parameters\n",
    "    ----------\n",
    "    signal : array_like\n",
    "        The signal to filter.\n",
    "    thr : float, optional\n",
    "        The initial threshold will be `thr` times the standard deviation of the residuals.\n",
    "        The standard deviation is robustly estimated from the interquartile range.\n",
    "        Default is `5`.\n",
    "    thr2 : float, optional\n",
    "        The threshold for repeated iterations will be `thr2` times the standard deviation\n",
    "        of the remaining residuals. The standard deviation is robustly estimated from\n",
    "        interdecile range. Default is `4`.\n",
    "    kernel : int, optional\n",
    "        The kernel size for the initial median filter. Default is `201`.\n",
    "    kernel2 : int, optional\n",
    "        The kernel size for subsequent median filters. Default is `31`.\n",
    "\n",
    "    Returns\n",
    "    -------\n",
    "    filtered : numpy.ndarray like signal\n",
    "        The input signal with anomalies replaced with median values.\n",
    "    is_fixed : bool numpy.ndarray shaped like signal\n",
    "        Indicator for which datapoints were replaced.\n",
    "\n",
    "    See also\n",
    "    --------\n",
    "    `medfilt1d`\n",
    "    \"\"\"\n",
    "    signal = np.copy(signal)\n",
    "\n",
    "    # Median filtering, with reflection padding\n",
    "    smoothed = medfilt1d(signal, kernel)\n",
    "    # Measure the residual between the original and median filtered signal\n",
    "    residual = signal - smoothed\n",
    "    # Replace datapoints more than thr sigma away from the median filter\n",
    "    # with the filtered signal. We use a robust estimate of the standard\n",
    "    # deviation, using the central 50% of datapoints.\n",
    "    stdev = np.diff(np.percentile(residual, [25, 75])).item() / 1.35\n",
    "    is_fixed = np.abs(residual) > thr * stdev\n",
    "    signal[is_fixed] = smoothed[is_fixed]\n",
    "\n",
    "    # Filter again, with a narrower kernel but tighter threshold\n",
    "    while True:\n",
    "        smoothed = medfilt1d(signal, kernel2)\n",
    "        # Mesure new residual\n",
    "        residual = signal - smoothed\n",
    "        # Make sure to only include original data points when determining\n",
    "        # the standard deviation. We use the interdecile range.\n",
    "        stdev = np.diff(np.percentile(residual[~is_fixed], [10, 90])).item() / 2.56\n",
    "        is_fixed_now = np.abs(residual) > thr2 * stdev\n",
    "        is_fixed |= is_fixed_now\n",
    "        signal[is_fixed] = smoothed[is_fixed]\n",
    "        # We are done when no more datapoints had to be replaced\n",
    "        if not np.any(is_fixed_now):\n",
    "            break\n",
    "\n",
    "    return signal, is_fixed"
   ]
  },
  {
   "cell_type": "code",
   "execution_count": null,
   "metadata": {},
   "outputs": [],
   "source": [
    "for i_segment, segment in enumerate(segments):\n",
    "    plt.figure(figsize=(15, 9))\n",
    "    plt.plot(segment[\"surface\"])\n",
    "\n",
    "    # Handle passive data\n",
    "    is_passive = segment[\"is_passive\"] > 0.5\n",
    "    _smoothed, _is_fixed = remove_anomalies_1d(segment[\"surface\"][~is_passive])\n",
    "    smoothed = np.interp(\n",
    "        segment[\"timestamps\"], segment[\"timestamps\"][~is_passive], _smoothed\n",
    "    )\n",
    "    is_fixed = np.zeros_like(is_passive)\n",
    "    is_fixed[~is_passive] = _is_fixed\n",
    "\n",
    "    print(\"{} datapoints were fixed\".format(np.sum(is_fixed)))\n",
    "    plt.plot(smoothed)\n",
    "    plt.title(\"{}  #{}, {} removed\".format(sample, i_segment, np.sum(is_fixed)))\n",
    "    plt.show()\n",
    "    if np.sum(is_fixed) > 0:\n",
    "        plt.figure(figsize=(15, 9))\n",
    "        echofilter.plotting.plot_transect(segment)\n",
    "        plt.show()"
   ]
  },
  {
   "cell_type": "code",
   "execution_count": null,
   "metadata": {},
   "outputs": [],
   "source": [
    "sample_paths = [\n",
    "    \"MinasPassage/december2017/december2017_D20171214-T202211_D20171215-T015215\",\n",
    "    \"MinasPassage/december2017/december2017_D20180108-T045216_D20180108-T102216\",\n",
    "    \"MinasPassage/december2017/december2017_D20180222-T145219_D20180222-T142214\",\n",
    "    \"MinasPassage/march2018/march2018_D20180330-T202218_D20180331-T015214\",\n",
    "    \"MinasPassage/march2018/march2018_D20180513-T015216_D20180513-T072215\",\n",
    "    \"MinasPassage/march2018/march2018_D20180523-T175215_D20180523-T172215\",\n",
    "    \"MinasPassage/september2018/september2018_D20180915-T202216_D20180916-T015217\",\n",
    "    \"MinasPassage/september2018/september2018_D20181027-T022221_D20181027-T075217\",\n",
    "    \"MinasPassage/september2018/september2018_D20181116-T205220_D20181117-T022218\",\n",
    "    \"MinasPassage/september2018/september2018_D20181119-T195217_D20181119-T195217\",\n",
    "]\n",
    "\n",
    "for sample in sample_paths:\n",
    "    print(sample)\n",
    "\n",
    "    transect = echofilter.raw.manipulate.load_decomposed_transect_mask(\n",
    "        os.path.join(root_data_dir, sample),\n",
    "    )\n",
    "\n",
    "    for i_segment, segment in enumerate(\n",
    "        echofilter.raw.manipulate.split_transect(**transect)\n",
    "    ):\n",
    "        plt.figure(figsize=(15, 9))\n",
    "        plt.plot(segment[\"surface\"])\n",
    "\n",
    "        # Handle passive data\n",
    "        is_passive = segment[\"is_passive\"] > 0.5\n",
    "        _smoothed, _is_fixed = remove_anomalies_1d(segment[\"surface\"][~is_passive])\n",
    "        smoothed = np.interp(\n",
    "            segment[\"timestamps\"], segment[\"timestamps\"][~is_passive], _smoothed\n",
    "        )\n",
    "        is_fixed = np.zeros_like(is_passive)\n",
    "        is_fixed[~is_passive] = _is_fixed\n",
    "\n",
    "        print(\"{} datapoints were fixed\".format(np.sum(is_fixed)))\n",
    "        plt.plot(smoothed)\n",
    "        plt.title(\"{}  #{}, {} removed\".format(sample, i_segment, np.sum(is_fixed)))\n",
    "        plt.show()\n",
    "        if np.sum(is_fixed) > 0:\n",
    "            plt.figure(figsize=(15, 9))\n",
    "            echofilter.plotting.plot_transect(segment)\n",
    "            plt.show()"
   ]
  }
 ],
 "metadata": {
  "kernelspec": {
   "display_name": "Python 3",
   "language": "python",
   "name": "python3"
  },
  "language_info": {
   "codemirror_mode": {
    "name": "ipython",
    "version": 3
   },
   "file_extension": ".py",
   "mimetype": "text/x-python",
   "name": "python",
   "nbconvert_exporter": "python",
   "pygments_lexer": "ipython3",
   "version": "3.6.9"
  }
 },
 "nbformat": 4,
 "nbformat_minor": 2
}
