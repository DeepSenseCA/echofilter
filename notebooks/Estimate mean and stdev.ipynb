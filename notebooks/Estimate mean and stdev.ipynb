{
 "cells": [
  {
   "cell_type": "code",
   "execution_count": null,
   "metadata": {},
   "outputs": [],
   "source": [
    "cd .."
   ]
  },
  {
   "cell_type": "code",
   "execution_count": null,
   "metadata": {},
   "outputs": [],
   "source": [
    "import os"
   ]
  },
  {
   "cell_type": "code",
   "execution_count": null,
   "metadata": {},
   "outputs": [],
   "source": [
    "import numpy as np"
   ]
  },
  {
   "cell_type": "code",
   "execution_count": null,
   "metadata": {},
   "outputs": [],
   "source": [
    "from tqdm.autonotebook import tqdm"
   ]
  },
  {
   "cell_type": "code",
   "execution_count": null,
   "metadata": {},
   "outputs": [],
   "source": [
    "from echofilter import raw.loader, shardloader"
   ]
  },
  {
   "cell_type": "code",
   "execution_count": null,
   "metadata": {},
   "outputs": [],
   "source": [
    "partition = 'train'\n",
    "partitioning_version = 'firstpass'\n",
    "dataset = 'surveyExports'"
   ]
  },
  {
   "cell_type": "code",
   "execution_count": null,
   "metadata": {},
   "outputs": [],
   "source": [
    "max_depth = 70"
   ]
  },
  {
   "cell_type": "code",
   "execution_count": null,
   "metadata": {},
   "outputs": [],
   "source": [
    "transect_pths = raw.loader.get_partition_list(\n",
    "    partition,\n",
    "    dataset=dataset,\n",
    "    full_path=False,\n",
    "    partitioning_version=partitioning_version,\n",
    ")"
   ]
  },
  {
   "cell_type": "code",
   "execution_count": null,
   "metadata": {},
   "outputs": [],
   "source": [
    "means = []\n",
    "medians = []\n",
    "\n",
    "for transect_pth in tqdm(transect_pths):\n",
    "    try:\n",
    "        _, depths, signals, _, _ = \\\n",
    "            shardloader.load_transect_from_shards(\n",
    "                transect_pth,\n",
    "                dataset=dataset,\n",
    "            )\n",
    "        means.append(np.mean(signals[:, depths <= max_depth]))\n",
    "        medians.append(np.median(signals[:, depths <= max_depth]))\n",
    "    except Exception as ex:\n",
    "        print('Error sharding {}'.format(transect_pth))\n",
    "        print(ex)\n",
    "\n",
    "MEAN = np.mean(means)\n",
    "print('mean = {}'.format(MEAN))\n",
    "print('mean of medians = {}'.format(np.mean(medians)))"
   ]
  },
  {
   "cell_type": "code",
   "execution_count": null,
   "metadata": {},
   "outputs": [],
   "source": [
    "variances = []\n",
    "\n",
    "for transect_pth in tqdm(transect_pths):\n",
    "    try:\n",
    "        _, depths, signals, _, _ = \\\n",
    "            shardloader.load_transect_from_shards(\n",
    "                transect_pth,\n",
    "                dataset=dataset,\n",
    "            )\n",
    "        variances.append(np.mean(np.power(signals[:, depths <= max_depth] - MEAN, 2)))\n",
    "    except Exception as ex:\n",
    "        print('Error sharding {}'.format(transect_pth))\n",
    "        print(ex)\n",
    "\n",
    "VARIANCE = np.mean(variances)\n",
    "print('variance = {}'.format(VARIANCE))\n",
    "print('stdev = {}'.format(np.sqrt(VARIANCE)))"
   ]
  }
 ],
 "metadata": {
  "kernelspec": {
   "display_name": "Python 3",
   "language": "python",
   "name": "python3"
  },
  "language_info": {
   "codemirror_mode": {
    "name": "ipython",
    "version": 3
   },
   "file_extension": ".py",
   "mimetype": "text/x-python",
   "name": "python",
   "nbconvert_exporter": "python",
   "pygments_lexer": "ipython3",
   "version": "3.6.5"
  }
 },
 "nbformat": 4,
 "nbformat_minor": 2
}
