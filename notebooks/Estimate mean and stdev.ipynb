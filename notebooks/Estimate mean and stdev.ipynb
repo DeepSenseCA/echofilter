{
 "cells": [
  {
   "cell_type": "code",
   "execution_count": null,
   "metadata": {},
   "outputs": [],
   "source": [
    "cd .."
   ]
  },
  {
   "cell_type": "code",
   "execution_count": null,
   "metadata": {},
   "outputs": [],
   "source": [
    "import os"
   ]
  },
  {
   "cell_type": "code",
   "execution_count": null,
   "metadata": {},
   "outputs": [],
   "source": [
    "import numpy as np"
   ]
  },
  {
   "cell_type": "code",
   "execution_count": null,
   "metadata": {},
   "outputs": [],
   "source": [
    "from tqdm.autonotebook import tqdm"
   ]
  },
  {
   "cell_type": "code",
   "execution_count": null,
   "metadata": {},
   "outputs": [],
   "source": [
    "import echofilter.raw\n",
    "import echofilter.shardloader"
   ]
  },
  {
   "cell_type": "code",
   "execution_count": null,
   "metadata": {},
   "outputs": [],
   "source": [
    "root_data_dir = echofilter.raw.loader.ROOT_DATA_DIR"
   ]
  },
  {
   "cell_type": "code",
   "execution_count": null,
   "metadata": {},
   "outputs": [],
   "source": [
    "partition = 'train'\n",
    "partitioning_version = 'firstpass'\n",
    "dataset = 'mobile'"
   ]
  },
  {
   "cell_type": "code",
   "execution_count": null,
   "metadata": {},
   "outputs": [],
   "source": [
    "max_depth = 70"
   ]
  },
  {
   "cell_type": "code",
   "execution_count": null,
   "metadata": {},
   "outputs": [],
   "source": [
    "transect_pths = echofilter.raw.loader.get_partition_list(\n",
    "    partition,\n",
    "    dataset=dataset,\n",
    "    partitioning_version=partitioning_version,\n",
    "    root_data_dir=root_data_dir,\n",
    "    full_path=True,\n",
    "    sharded=True,\n",
    ")"
   ]
  },
  {
   "cell_type": "code",
   "execution_count": null,
   "metadata": {},
   "outputs": [],
   "source": [
    "means = []\n",
    "medians = []\n",
    "\n",
    "for transect_pth in tqdm(transect_pths):\n",
    "\n",
    "    try:\n",
    "        # Check how many segments the transect was divided into\n",
    "        with open(os.path.join(transect_pth, 'n_segment.txt'), 'r') as f:\n",
    "            n_segment = int(f.readline().strip())\n",
    "\n",
    "        for i_seg in range(n_segment):\n",
    "            transect = echofilter.shardloader.load_transect_from_shards_abs(\n",
    "                os.path.join(transect_pth, str(i_seg))\n",
    "            )\n",
    "            means.append(np.mean(transect['Sv'][:, transect['depths'] <= max_depth]))\n",
    "            medians.append(np.median(transect['Sv'][:, transect['depths'] <= max_depth]))\n",
    "    except Exception as ex:\n",
    "        print('Error loading shard from {}'.format(transect_pth))\n",
    "        print(ex)\n",
    "\n",
    "MEAN = np.mean(means)\n",
    "print('mean = {}'.format(MEAN))\n",
    "print('mean of medians = {}'.format(np.mean(medians)))"
   ]
  },
  {
   "cell_type": "code",
   "execution_count": null,
   "metadata": {},
   "outputs": [],
   "source": [
    "variances = []\n",
    "\n",
    "for transect_pth in tqdm(transect_pths):\n",
    "\n",
    "    try:\n",
    "        # Check how many segments the transect was divided into\n",
    "        with open(os.path.join(transect_pth, 'n_segment.txt'), 'r') as f:\n",
    "            n_segment = int(f.readline().strip())\n",
    "\n",
    "        for i_seg in range(n_segment):\n",
    "            transect = echofilter.shardloader.load_transect_from_shards_abs(\n",
    "                os.path.join(transect_pth, str(i_seg))\n",
    "            )\n",
    "            variances.append(np.mean(np.power(transect['Sv'][:, transect['depths'] <= max_depth] - MEAN, 2)))\n",
    "    except Exception as ex:\n",
    "        print('Error loading shard from {}'.format(transect_pth))\n",
    "        print(ex)\n",
    "\n",
    "\n",
    "VARIANCE = np.mean(variances)\n",
    "print('variance = {}'.format(VARIANCE))\n",
    "print('stdev = {}'.format(np.sqrt(VARIANCE)))"
   ]
  }
 ],
 "metadata": {
  "kernelspec": {
   "display_name": "Python 3",
   "language": "python",
   "name": "python3"
  },
  "language_info": {
   "codemirror_mode": {
    "name": "ipython",
    "version": 3
   },
   "file_extension": ".py",
   "mimetype": "text/x-python",
   "name": "python",
   "nbconvert_exporter": "python",
   "pygments_lexer": "ipython3",
   "version": "3.6.9"
  }
 },
 "nbformat": 4,
 "nbformat_minor": 2
}
